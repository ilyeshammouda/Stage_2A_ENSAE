{
 "cells": [
  {
   "cell_type": "code",
   "execution_count": null,
   "metadata": {},
   "outputs": [],
   "source": [
    "import os\n",
    "# Change the terminal placement to the folder where the py files  are located  \n",
    "os.chdir('/Users/ilyeshammouda/Desktop/Ilyes/2A ENSAE/stage/code_stage_2_A_ENSAE/Stage_2A_ENSAE/code') \n",
    "# We position ourselves in the directory where the main classes are located.\n",
    "print(f\" You are currently in the directory: {os.getcwd()}\")"
   ]
  },
  {
   "cell_type": "code",
   "execution_count": null,
   "metadata": {},
   "outputs": [],
   "source": [
    "from Zoro import *\n",
    "from functions import *\n",
    "from Zoro_MD import * \n",
    "\n",
    "import numpy as np\n",
    "import matplotlib.pyplot as plt\n",
    "import matplotlib as mpl\n",
    "import copy"
   ]
  },
  {
   "cell_type": "code",
   "execution_count": null,
   "metadata": {},
   "outputs": [],
   "source": [
    "mpl.style.use('seaborn')"
   ]
  },
  {
   "cell_type": "code",
   "execution_count": null,
   "metadata": {},
   "outputs": [],
   "source": [
    "# problem set up\n",
    "n = 2000\n",
    "s = int(0.1*n)\n",
    "noiseamp = 0.001 # noise amplitude\n",
    "decay_factor=0.5\n",
    "#obj_func = SparseQuadric(n, s, noiseamp)\n",
    "#obj_func=CompressibleQuadric(n=n, decay_factor=decay_factor, noiseamp=noiseamp)\n",
    "obj_func=SparseQuadric(n, s, noiseamp)\n",
    "# Choose initialization\n",
    "x0    = np.random.randn(n)\n",
    "x0    = 100*x0/np.linalg.norm(x0)\n",
    "xx0   = copy.deepcopy(x0)\n",
    "\n",
    "sparsity = s\n",
    "#sparsity = int(0.1*len(x0)) # This is a decent default, if no better estimate is known. \n",
    "\n",
    "# Parameters for ZORO. Defaults are fine in most cases\n",
    "params = {\"step_size\":1.0, \"delta\": 0.0001, \"max_cosamp_iter\": 10, \n",
    "          \"cosamp_tol\": 0.5,\"sparsity\": sparsity,\n",
    "          \"num_samples\": int(np.ceil(np.log(len(x0))*sparsity))}\n",
    "\n",
    "performance_log_ZORO = [[0, obj_func(x0)]]"
   ]
  },
  {
   "cell_type": "code",
   "execution_count": null,
   "metadata": {},
   "outputs": [],
   "source": [
    "#IHT set up \n",
    "threshold_IHT=2\n",
    "step_IHT=0.0001\n",
    "itt_IHT=40 \n",
    "C_IHT=0.8 # lamda update \n",
    "lamda_IHT=1 # threshold param "
   ]
  },
  {
   "cell_type": "code",
   "execution_count": null,
   "metadata": {},
   "outputs": [],
   "source": [
    "#ISTA set up \n",
    "threshold_ista=2\n",
    "step_ista=0.00000001\n",
    "itt_ista=100 \n",
    "C_ista=0.8 # lamda update \n",
    "lamda_ista=3 # threshold param "
   ]
  },
  {
   "cell_type": "code",
   "execution_count": null,
   "metadata": {},
   "outputs": [],
   "source": [
    "opt_Co  = ZORO(x0, obj_func, params,algo='CoSaMP', function_budget= int(1e6))\n",
    "opt_Lasso  = ZORO(x0, obj_func, params,algo='Lasso', function_budget= int(1e6),itt_Lasso=30)\n",
    "opt_DLasso  = ZORO(x0, obj_func, params,algo='DLasso', function_budget= int(1e6))\n",
    "opt_IHT  = ZORO(x0, obj_func, params,algo='IHT_Classique', function_budget= int(1e6),s=sparsity,itt_IHT=itt_IHT)\n",
    "opt_IHT_ad  = ZORO(x0, obj_func, params,algo='IHT_ad', function_budget= int(1e6),threshold_IHT=threshold_IHT,C_IHT=C_IHT,lamda_IHT=lamda_IHT,itt_IHT=itt_IHT,step_IHT=step_IHT)\n",
    "opt_ista_ad  = ZORO(x0, obj_func, params,algo='ISTA_ad', function_budget= int(1e6),threshold_IHT=threshold_ista,C_IHT=C_ista,lamda_IHT=lamda_ista,itt_IHT=itt_ista,step_IHT=step_ista)\n",
    "# the actual optimization routine\n",
    "termination=False"
   ]
  },
  {
   "cell_type": "code",
   "execution_count": null,
   "metadata": {},
   "outputs": [],
   "source": [
    "opt_Co_MD  = ZORO_MD(x0, obj_func, params,algo='CoSaMP', function_budget= int(1e6))"
   ]
  },
  {
   "cell_type": "code",
   "execution_count": null,
   "metadata": {},
   "outputs": [],
   "source": [
    "opt_IHT_MD  = ZORO_MD(x0, obj_func, params,algo='IHT_Classique', function_budget= int(1e6),s=sparsity,itt_IHT=itt_IHT)"
   ]
  },
  {
   "cell_type": "code",
   "execution_count": null,
   "metadata": {},
   "outputs": [],
   "source": [
    "performance_log_ZORO_Co=opt_Co.Zoro()"
   ]
  },
  {
   "cell_type": "code",
   "execution_count": null,
   "metadata": {},
   "outputs": [],
   "source": [
    "performance_log_ZORO_IHT=opt_IHT_MD.Zoro_MD()"
   ]
  },
  {
   "cell_type": "code",
   "execution_count": null,
   "metadata": {},
   "outputs": [],
   "source": [
    "performance_log_ZORO_Co=opt_Co.Zoro()\n",
    "#performance_log_ZORO_IHT=opt_IHT_ad.Zoro()\n",
    "#performance_log_ZORO_DLasso=opt_DLasso.Zoro()\n",
    "#performance_log_ZORO_DLasso=opt_DLasso.Zoro()"
   ]
  },
  {
   "cell_type": "code",
   "execution_count": null,
   "metadata": {},
   "outputs": [],
   "source": [
    "performance_log_ZORO_Lasso=opt_Lasso.Zoro()"
   ]
  },
  {
   "cell_type": "code",
   "execution_count": null,
   "metadata": {},
   "outputs": [],
   "source": [
    "performance_log_ZORO_Lasso"
   ]
  },
  {
   "cell_type": "code",
   "execution_count": null,
   "metadata": {},
   "outputs": [],
   "source": [
    "fig, ax = plt.subplots()\n",
    "ax.plot(np.array(performance_log_ZORO_Co)[:,0],\n",
    " (np.array(performance_log_ZORO_Co)[:,1]), linewidth=1, label = \"ZORO_original\")\n",
    "#ax.plot(np.array(performance_log_ZORO_Co_MD)[:,0],\n",
    " #(np.array(performance_log_ZORO_Co_MD)[:,1]), linewidth=1, label = \"ZORO_MD\")\n",
    "ax.plot(np.array(performance_log_ZORO_IHT)[:,0],\n",
    " (np.array(performance_log_ZORO_IHT)[:,1]), linewidth=1, label = \"ZORO_IHT_ad_MD\")\n",
    "#ax.plot(np.array(performance_log_ZORO_DLasso)[:,0],\n",
    " #np.log10(np.array(performance_log_ZORO_DLasso)[:,1]), linewidth=1, label = \"ZORO_DLasso\")\n",
    "plt.xlabel('number of queries')\n",
    "plt.ylabel('$f(x)-f^{*}$')\n",
    "leg = ax.legend()\n",
    "plt.show()"
   ]
  }
 ],
 "metadata": {
  "kernelspec": {
   "display_name": "base",
   "language": "python",
   "name": "python3"
  },
  "language_info": {
   "codemirror_mode": {
    "name": "ipython",
    "version": 3
   },
   "file_extension": ".py",
   "mimetype": "text/x-python",
   "name": "python",
   "nbconvert_exporter": "python",
   "pygments_lexer": "ipython3",
   "version": "3.9.12"
  },
  "orig_nbformat": 4
 },
 "nbformat": 4,
 "nbformat_minor": 2
}
