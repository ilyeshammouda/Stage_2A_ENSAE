{
 "cells": [
  {
   "cell_type": "code",
   "execution_count": 1,
   "metadata": {},
   "outputs": [
    {
     "name": "stdout",
     "output_type": "stream",
     "text": [
      " You are currently in the directory: /Users/ilyeshammouda/Desktop/Ilyes/2A ENSAE/stage/code_stage_2_A_ENSAE/Stage_2A_ENSAE/code\n"
     ]
    }
   ],
   "source": [
    "import os\n",
    "os.chdir('/Users/ilyeshammouda/Desktop/Ilyes/2A ENSAE/stage/code_stage_2_A_ENSAE/Stage_2A_ENSAE/code') \n",
    "# We position ourselves in the directory where the main classes are located.\n",
    "print(f\" You are currently in the directory: {os.getcwd()}\")"
   ]
  },
  {
   "cell_type": "code",
   "execution_count": 2,
   "metadata": {},
   "outputs": [],
   "source": [
    "from Zoro import *\n",
    "from functions import *\n",
    "\n",
    "import numpy as np\n",
    "import matplotlib.pyplot as plt\n",
    "import matplotlib as mpl\n",
    "import copy"
   ]
  },
  {
   "cell_type": "code",
   "execution_count": 3,
   "metadata": {},
   "outputs": [],
   "source": [
    "mpl.style.use('seaborn')"
   ]
  },
  {
   "cell_type": "code",
   "execution_count": 5,
   "metadata": {},
   "outputs": [],
   "source": [
    "# problem set up\n",
    "n = 2000\n",
    "s = int(0.4*n)\n",
    "noiseamp = 0.001 # noise amplitude\n",
    "obj_func = SparseQuadric(n, s, noiseamp)\n",
    "\n",
    "# Choose initialization\n",
    "x0    = np.random.randn(n)\n",
    "x0    = 100*x0/np.linalg.norm(x0)\n",
    "xx0   = copy.deepcopy(x0)\n",
    "\n",
    "sparsity = s\n",
    "#sparsity = int(0.1*len(x0)) # This is a decent default, if no better estimate is known. \n",
    "\n",
    "# Parameters for ZORO. Defaults are fine in most cases\n",
    "params = {\"step_size\":1.0, \"delta\": 0.0001, \"max_cosamp_iter\": 10, \n",
    "          \"cosamp_tol\": 0.5,\"sparsity\": sparsity,\n",
    "          \"num_samples\": int(np.ceil(np.log(len(x0))*sparsity))}\n",
    "\n",
    "performance_log_ZORO = [[0, obj_func(x0)]]"
   ]
  },
  {
   "cell_type": "code",
   "execution_count": 6,
   "metadata": {},
   "outputs": [],
   "source": [
    "opt_Co  = ZORO(x0, obj_func, params,algo='CoSaMP', function_budget= int(1e6))\n",
    "opt_Lasso  = ZORO(x0, obj_func, params,algo='Lasso', function_budget= int(1e6))\n",
    "opt_DLasso  = ZORO(x0, obj_func, params,algo='DLasso', function_budget= int(1e6))\n",
    "opt_IHT  = ZORO(x0, obj_func, params,algo='IHT_Classique', function_budget= int(1e6),s=sparsity)\n",
    "# the actual optimization routine\n",
    "termination=False"
   ]
  },
  {
   "cell_type": "code",
   "execution_count": 7,
   "metadata": {},
   "outputs": [
    {
     "name": "stdout",
     "output_type": "stream",
     "text": [
      "Estimated f(x_k): 3945.874093  function evals: 12162\n",
      "Estimated f(x_k): 2994.731922  function evals: 24324\n",
      "Estimated f(x_k): 2571.538229  function evals: 36486\n",
      "Estimated f(x_k): 2455.286791  function evals: 48648\n",
      "Estimated f(x_k): 2491.401805  function evals: 60810\n",
      "Estimated f(x_k): 2602.252325  function evals: 72972\n",
      "Estimated f(x_k): 2707.043187  function evals: 85134\n",
      "Estimated f(x_k): 2803.667468  function evals: 97296\n"
     ]
    },
    {
     "ename": "KeyboardInterrupt",
     "evalue": "",
     "output_type": "error",
     "traceback": [
      "\u001b[0;31m---------------------------------------------------------------------------\u001b[0m",
      "\u001b[0;31mKeyboardInterrupt\u001b[0m                         Traceback (most recent call last)",
      "\u001b[1;32m/Users/ilyeshammouda/Desktop/Ilyes/2A ENSAE/stage/code_stage_2_A_ENSAE/Stage_2A_ENSAE/notebook/ZORO.ipynb Cellule 6\u001b[0m in \u001b[0;36m<cell line: 1>\u001b[0;34m()\u001b[0m\n\u001b[0;32m----> <a href='vscode-notebook-cell:/Users/ilyeshammouda/Desktop/Ilyes/2A%20ENSAE/stage/code_stage_2_A_ENSAE/Stage_2A_ENSAE/notebook/ZORO.ipynb#X32sZmlsZQ%3D%3D?line=0'>1</a>\u001b[0m performance_log_ZORO_IHT\u001b[39m=\u001b[39mopt_IHT\u001b[39m.\u001b[39;49mZoro()\n",
      "File \u001b[0;32m~/Desktop/Ilyes/2A ENSAE/stage/code_stage_2_A_ENSAE/Stage_2A_ENSAE/code/Zoro.py:131\u001b[0m, in \u001b[0;36mZORO.Zoro\u001b[0;34m(self)\u001b[0m\n\u001b[1;32m    129\u001b[0m termination \u001b[39m=\u001b[39m \u001b[39mFalse\u001b[39;00m\n\u001b[1;32m    130\u001b[0m \u001b[39mwhile\u001b[39;00m termination \u001b[39mis\u001b[39;00m \u001b[39mFalse\u001b[39;00m:\n\u001b[0;32m--> 131\u001b[0m     evals_ZORO, solution_ZORO, termination \u001b[39m=\u001b[39m \u001b[39mself\u001b[39;49m\u001b[39m.\u001b[39;49mstep()\n\u001b[1;32m    132\u001b[0m     \u001b[39m# save some useful values\u001b[39;00m\n\u001b[1;32m    133\u001b[0m     performance_log_ZORO\u001b[39m.\u001b[39mappend( [evals_ZORO,np\u001b[39m.\u001b[39mmean(\u001b[39mself\u001b[39m\u001b[39m.\u001b[39mfd)] )\n",
      "File \u001b[0;32m~/Desktop/Ilyes/2A ENSAE/stage/code_stage_2_A_ENSAE/Stage_2A_ENSAE/code/Zoro.py:107\u001b[0m, in \u001b[0;36mZORO.step\u001b[0;34m(self)\u001b[0m\n\u001b[1;32m    102\u001b[0m \u001b[39mdef\u001b[39;00m \u001b[39mstep\u001b[39m(\u001b[39mself\u001b[39m):\n\u001b[1;32m    103\u001b[0m     \u001b[39m'''\u001b[39;00m\n\u001b[1;32m    104\u001b[0m \u001b[39m    Take step of optimizer\u001b[39;00m\n\u001b[1;32m    105\u001b[0m \u001b[39m    '''\u001b[39;00m\n\u001b[0;32m--> 107\u001b[0m     grad_est, f_est \u001b[39m=\u001b[39m \u001b[39mself\u001b[39;49m\u001b[39m.\u001b[39;49mCosampGradEstimate()\n\u001b[1;32m    108\u001b[0m     \u001b[39mself\u001b[39m\u001b[39m.\u001b[39mfd \u001b[39m=\u001b[39m f_est\n\u001b[1;32m    109\u001b[0m     \u001b[39m# Note that if no prox operator was specified then self.prox is the\u001b[39;00m\n\u001b[1;32m    110\u001b[0m     \u001b[39m# identity mapping.\u001b[39;00m\n",
      "File \u001b[0;32m~/Desktop/Ilyes/2A ENSAE/stage/code_stage_2_A_ENSAE/Stage_2A_ENSAE/code/Zoro.py:96\u001b[0m, in \u001b[0;36mZORO.CosampGradEstimate\u001b[0;34m(self)\u001b[0m\n\u001b[1;32m     94\u001b[0m     grad_estimate\u001b[39m=\u001b[39mdebiased_Lasso(y,Z,delta)\n\u001b[1;32m     95\u001b[0m \u001b[39mif\u001b[39;00m \u001b[39mself\u001b[39m\u001b[39m.\u001b[39malgo\u001b[39m==\u001b[39m\u001b[39m'\u001b[39m\u001b[39mIHT_Classique\u001b[39m\u001b[39m'\u001b[39m:\n\u001b[0;32m---> 96\u001b[0m     grad_estimate\u001b[39m=\u001b[39mIHT_classique(X\u001b[39m=\u001b[39;49mZ,Y\u001b[39m=\u001b[39;49my,s\u001b[39m=\u001b[39;49m\u001b[39mself\u001b[39;49m\u001b[39m.\u001b[39;49ms,step\u001b[39m=\u001b[39;49m\u001b[39mself\u001b[39;49m\u001b[39m.\u001b[39;49mstep_IHT,max_iterations\u001b[39m=\u001b[39;49m\u001b[39mself\u001b[39;49m\u001b[39m.\u001b[39;49mitt_IHT)\n\u001b[1;32m     97\u001b[0m \u001b[39mreturn\u001b[39;00m grad_estimate, function_estimate\n",
      "File \u001b[0;32m~/Desktop/Ilyes/2A ENSAE/stage/code_stage_2_A_ENSAE/Stage_2A_ENSAE/code/help_function.py:51\u001b[0m, in \u001b[0;36mIHT_classique\u001b[0;34m(X, Y, s, step, max_iterations)\u001b[0m\n\u001b[1;32m     49\u001b[0m \u001b[39mfor\u001b[39;00m i \u001b[39min\u001b[39;00m \u001b[39mrange\u001b[39m(max_iterations):\n\u001b[1;32m     50\u001b[0m     Z\u001b[39m=\u001b[39mbeta_hat\u001b[39m+\u001b[39m(step\u001b[39m*\u001b[39m(X\u001b[39m.\u001b[39mT)\u001b[39m@\u001b[39m(Y\u001b[39m-\u001b[39mX\u001b[39m@beta_hat\u001b[39m))\n\u001b[0;32m---> 51\u001b[0m     beta_hat\u001b[39m=\u001b[39ms_grands_comp(Z, s)\n\u001b[1;32m     52\u001b[0m \u001b[39mreturn\u001b[39;00m beta_hat\n",
      "File \u001b[0;32m~/Desktop/Ilyes/2A ENSAE/stage/code_stage_2_A_ENSAE/Stage_2A_ENSAE/code/help_function.py:42\u001b[0m, in \u001b[0;36ms_grands_comp\u001b[0;34m(vecteur, s)\u001b[0m\n\u001b[1;32m     40\u001b[0m vecteur_s \u001b[39m=\u001b[39m np\u001b[39m.\u001b[39mzeros(\u001b[39mlen\u001b[39m(vecteur))\n\u001b[1;32m     41\u001b[0m \u001b[39mfor\u001b[39;00m i \u001b[39min\u001b[39;00m \u001b[39mrange\u001b[39m(s):\n\u001b[0;32m---> 42\u001b[0m     vecteur_s[indices_tries[i]] \u001b[39m=\u001b[39m valeurs_triees[i]\n\u001b[1;32m     43\u001b[0m \u001b[39mreturn\u001b[39;00m vecteur_s\n",
      "\u001b[0;31mKeyboardInterrupt\u001b[0m: "
     ]
    }
   ],
   "source": [
    "performance_log_ZORO_IHT=opt_IHT.Zoro()"
   ]
  },
  {
   "cell_type": "code",
   "execution_count": null,
   "metadata": {},
   "outputs": [],
   "source": [
    "performance_log_ZORO_DLasso=opt_DLasso.Zoro()"
   ]
  },
  {
   "cell_type": "code",
   "execution_count": null,
   "metadata": {},
   "outputs": [],
   "source": [
    "performance_log_ZORO_Co=opt_Co.Zoro()\n",
    "performance_log_ZORO_Lasso=opt_Lasso.Zoro()\n",
    "performance_log_ZORO_DLasso=opt_DLasso.Zoro()"
   ]
  },
  {
   "cell_type": "code",
   "execution_count": null,
   "metadata": {},
   "outputs": [],
   "source": [
    "fig, ax = plt.subplots()\n",
    "ax.plot(np.array(performance_log_ZORO_Co)[:,0],\n",
    " np.log10(np.array(performance_log_ZORO_Co)[:,1]), linewidth=1, label = \"ZORO_original\")\n",
    "ax.plot(np.array(performance_log_ZORO_Lasso)[:,0],\n",
    " np.log10(np.array(performance_log_ZORO_Lasso)[:,1]), linewidth=1, label = \"ZORO_Lasso\")\n",
    "#ax.plot(np.array(performance_log_ZORO_DLasso)[:,0],\n",
    " #np.log10(np.array(performance_log_ZORO_DLasso)[:,1]), linewidth=1, label = \"ZORO_DLasso\")\n",
    "plt.xlabel('number of queries')\n",
    "plt.ylabel('$log($f(x)$)$')\n",
    "leg = ax.legend()\n",
    "plt.show()"
   ]
  }
 ],
 "metadata": {
  "language_info": {
   "name": "python"
  },
  "orig_nbformat": 4
 },
 "nbformat": 4,
 "nbformat_minor": 2
}
