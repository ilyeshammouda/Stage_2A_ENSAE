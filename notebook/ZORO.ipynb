{
 "cells": [
  {
   "cell_type": "code",
   "execution_count": 1,
   "metadata": {},
   "outputs": [
    {
     "name": "stdout",
     "output_type": "stream",
     "text": [
      " You are currently in the directory: /Users/ilyeshammouda/Desktop/Ilyes/2A ENSAE/stage/code_stage_2_A_ENSAE/Stage_2A_ENSAE/code\n"
     ]
    }
   ],
   "source": [
    "import os\n",
    "os.chdir('/Users/ilyeshammouda/Desktop/Ilyes/2A ENSAE/stage/code_stage_2_A_ENSAE/Stage_2A_ENSAE/code') \n",
    "# We position ourselves in the directory where the main classes are located.\n",
    "print(f\" You are currently in the directory: {os.getcwd()}\")"
   ]
  },
  {
   "cell_type": "code",
   "execution_count": 2,
   "metadata": {},
   "outputs": [],
   "source": [
    "from Zoro import *\n",
    "from functions import *\n",
    "\n",
    "import numpy as np\n",
    "import matplotlib.pyplot as plt\n",
    "import matplotlib as mpl\n",
    "import copy"
   ]
  },
  {
   "cell_type": "code",
   "execution_count": 3,
   "metadata": {},
   "outputs": [],
   "source": [
    "mpl.style.use('seaborn')"
   ]
  },
  {
   "cell_type": "code",
   "execution_count": 4,
   "metadata": {},
   "outputs": [],
   "source": [
    "# problem set up\n",
    "n = 2000\n",
    "s = int(0.4*n)\n",
    "noiseamp = 0.001 # noise amplitude\n",
    "obj_func = SparseQuadric(n, s, noiseamp)\n",
    "\n",
    "# Choose initialization\n",
    "x0    = np.random.randn(n)\n",
    "x0    = 100*x0/np.linalg.norm(x0)\n",
    "xx0   = copy.deepcopy(x0)\n",
    "\n",
    "sparsity = s\n",
    "#sparsity = int(0.1*len(x0)) # This is a decent default, if no better estimate is known. \n",
    "\n",
    "# Parameters for ZORO. Defaults are fine in most cases\n",
    "params = {\"step_size\":1.0, \"delta\": 0.0001, \"max_cosamp_iter\": 10, \n",
    "          \"cosamp_tol\": 0.5,\"sparsity\": sparsity,\n",
    "          \"num_samples\": int(np.ceil(np.log(len(x0))*sparsity))}\n",
    "\n",
    "performance_log_ZORO = [[0, obj_func(x0)]]"
   ]
  },
  {
   "cell_type": "code",
   "execution_count": null,
   "metadata": {},
   "outputs": [],
   "source": [
    "#IHT set up \n",
    "threshold_IHT=2\n",
    "step_IHT=0.0000001\n",
    "itt_IHT=30 \n",
    "C_IHT=0.9\n",
    "lamda_IHT=0.1"
   ]
  },
  {
   "cell_type": "code",
   "execution_count": 5,
   "metadata": {},
   "outputs": [],
   "source": [
    "opt_Co  = ZORO(x0, obj_func, params,algo='CoSaMP', function_budget= int(1e6))\n",
    "opt_Lasso  = ZORO(x0, obj_func, params,algo='Lasso', function_budget= int(1e6))\n",
    "opt_DLasso  = ZORO(x0, obj_func, params,algo='DLasso', function_budget= int(1e6))\n",
    "opt_IHT  = ZORO(x0, obj_func, params,algo='IHT_Classique', function_budget= int(1e6),s=sparsity)\n",
    "opt_IHT  = ZORO(x0, obj_func, params,algo='IHT_Classique', function_budget= int(1e6),s=sparsity,itt_IHT=itt_IHT)\n",
    "opt_IHT_ad  = ZORO(x0, obj_func, params,algo='IHT_ad', function_budget= int(1e6),threshold_IHT=threshold_IHT,C_IHT=C_IHT,lamda_IHT=lamda_IHT,itt_IHT=itt_IHT)\n",
    "\n",
    "# the actual optimization routine\n",
    "termination=False"
   ]
  },
  {
   "cell_type": "code",
   "execution_count": 7,
   "metadata": {},
   "outputs": [
    {
     "name": "stdout",
     "output_type": "stream",
     "text": [
      "Estimated f(x_k): 3988.027890  function evals: 12162\n",
      "Estimated f(x_k): 4739.060176  function evals: 24324\n",
      "Estimated f(x_k): 7090.062745  function evals: 36486\n",
      "Estimated f(x_k): 11041.006406  function evals: 48648\n",
      "Estimated f(x_k): 16591.861972  function evals: 60810\n",
      "Estimated f(x_k): 23742.600255  function evals: 72972\n",
      "Estimated f(x_k): 32493.192059  function evals: 85134\n",
      "Estimated f(x_k): 42843.608200  function evals: 97296\n",
      "Estimated f(x_k): 54793.819487  function evals: 109458\n",
      "Estimated f(x_k): 68343.796737  function evals: 121620\n",
      "Estimated f(x_k): 83493.510761  function evals: 133782\n",
      "Estimated f(x_k): 100242.932354  function evals: 145944\n",
      "Estimated f(x_k): 118592.032358  function evals: 158106\n",
      "Estimated f(x_k): 138540.781568  function evals: 170268\n",
      "Estimated f(x_k): 160089.150823  function evals: 182430\n",
      "Estimated f(x_k): 183237.110927  function evals: 194592\n",
      "Estimated f(x_k): 207984.632678  function evals: 206754\n",
      "Estimated f(x_k): 234331.686904  function evals: 218916\n",
      "Estimated f(x_k): 262278.244437  function evals: 231078\n",
      "Estimated f(x_k): 291824.276059  function evals: 243240\n",
      "Estimated f(x_k): 322969.752634  function evals: 255402\n",
      "Estimated f(x_k): 355714.644954  function evals: 267564\n",
      "Estimated f(x_k): 390058.923836  function evals: 279726\n",
      "Estimated f(x_k): 426002.560096  function evals: 291888\n",
      "Estimated f(x_k): 463545.524554  function evals: 304050\n",
      "Estimated f(x_k): 502687.788039  function evals: 316212\n",
      "Estimated f(x_k): 543429.321386  function evals: 328374\n",
      "Estimated f(x_k): 585770.095390  function evals: 340536\n",
      "Estimated f(x_k): 629710.080870  function evals: 352698\n",
      "Estimated f(x_k): 675249.248674  function evals: 364860\n",
      "Estimated f(x_k): 722387.569565  function evals: 377022\n",
      "Estimated f(x_k): 771125.014462  function evals: 389184\n",
      "Estimated f(x_k): 821461.554122  function evals: 401346\n",
      "Estimated f(x_k): 873397.159396  function evals: 413508\n",
      "Estimated f(x_k): 926931.801136  function evals: 425670\n",
      "Estimated f(x_k): 982065.450084  function evals: 437832\n",
      "Estimated f(x_k): 1038798.077080  function evals: 449994\n",
      "Estimated f(x_k): 1097129.652973  function evals: 462156\n",
      "Estimated f(x_k): 1157060.148607  function evals: 474318\n",
      "Estimated f(x_k): 1218589.534841  function evals: 486480\n",
      "Estimated f(x_k): 1281717.782449  function evals: 498642\n",
      "Estimated f(x_k): 1346444.862261  function evals: 510804\n",
      "Estimated f(x_k): 1412770.745105  function evals: 522966\n",
      "Estimated f(x_k): 1480695.401806  function evals: 535128\n",
      "Estimated f(x_k): 1550218.803190  function evals: 547290\n",
      "Estimated f(x_k): 1621340.920088  function evals: 559452\n",
      "Estimated f(x_k): 1694061.723383  function evals: 571614\n",
      "Estimated f(x_k): 1768381.183843  function evals: 583776\n",
      "Estimated f(x_k): 1844299.272257  function evals: 595938\n",
      "Estimated f(x_k): 1921815.959582  function evals: 608100\n",
      "Estimated f(x_k): 2000931.216565  function evals: 620262\n",
      "Estimated f(x_k): 2081645.014080  function evals: 632424\n",
      "Estimated f(x_k): 2163957.322907  function evals: 644586\n",
      "Estimated f(x_k): 2247868.113909  function evals: 656748\n",
      "Estimated f(x_k): 2333377.357918  function evals: 668910\n",
      "Estimated f(x_k): 2420485.025850  function evals: 681072\n",
      "Estimated f(x_k): 2509191.088386  function evals: 693234\n",
      "Estimated f(x_k): 2599495.516497  function evals: 705396\n",
      "Estimated f(x_k): 2691398.280848  function evals: 717558\n",
      "Estimated f(x_k): 2784899.352424  function evals: 729720\n",
      "Estimated f(x_k): 2879998.701993  function evals: 741882\n",
      "Estimated f(x_k): 2976696.300518  function evals: 754044\n",
      "Estimated f(x_k): 3074992.118743  function evals: 766206\n",
      "Estimated f(x_k): 3174886.127352  function evals: 778368\n",
      "Estimated f(x_k): 3276378.297428  function evals: 790530\n",
      "Estimated f(x_k): 3379468.599681  function evals: 802692\n",
      "Estimated f(x_k): 3484157.005017  function evals: 814854\n",
      "Estimated f(x_k): 3590443.484275  function evals: 827016\n",
      "Estimated f(x_k): 3698328.008256  function evals: 839178\n",
      "Estimated f(x_k): 3807810.547731  function evals: 851340\n",
      "Estimated f(x_k): 3918891.073558  function evals: 863502\n",
      "Estimated f(x_k): 4031569.556815  function evals: 875664\n",
      "Estimated f(x_k): 4145845.968130  function evals: 887826\n",
      "Estimated f(x_k): 4261720.278370  function evals: 899988\n",
      "Estimated f(x_k): 4379192.458354  function evals: 912150\n",
      "Estimated f(x_k): 4498262.478963  function evals: 924312\n",
      "Estimated f(x_k): 4618930.311048  function evals: 936474\n",
      "Estimated f(x_k): 4741195.925406  function evals: 948636\n",
      "Estimated f(x_k): 4865059.293013  function evals: 960798\n",
      "Estimated f(x_k): 4990520.384519  function evals: 972960\n",
      "Estimated f(x_k): 5117579.170931  function evals: 985122\n",
      "Estimated f(x_k): 5246235.622985  function evals: 997284\n",
      "Estimated f(x_k): 5376489.711666  function evals: 1009446\n"
     ]
    }
   ],
   "source": [
    "performance_log_ZORO_IHT=opt_IHT_ad.Zoro()"
   ]
  },
  {
   "cell_type": "code",
   "execution_count": 6,
   "metadata": {},
   "outputs": [
    {
     "name": "stdout",
     "output_type": "stream",
     "text": [
      "Estimated f(x_k): 3988.027890  function evals: 12162\n",
      "Estimated f(x_k): 2989.634778  function evals: 24324\n",
      "Estimated f(x_k): 2533.970031  function evals: 36486\n",
      "Estimated f(x_k): 2370.666278  function evals: 48648\n",
      "Estimated f(x_k): 2383.445589  function evals: 60810\n",
      "Estimated f(x_k): 2468.132621  function evals: 72972\n",
      "Estimated f(x_k): 2555.927606  function evals: 85134\n",
      "Estimated f(x_k): 2617.007948  function evals: 97296\n",
      "Estimated f(x_k): 2640.379995  function evals: 109458\n",
      "Estimated f(x_k): 2659.895167  function evals: 121620\n",
      "Estimated f(x_k): 2677.010468  function evals: 133782\n",
      "Estimated f(x_k): 2679.273441  function evals: 145944\n",
      "Estimated f(x_k): 2686.930142  function evals: 158106\n",
      "Estimated f(x_k): 2690.414871  function evals: 170268\n",
      "Estimated f(x_k): 2690.414871  function evals: 182430\n",
      "Estimated f(x_k): 2690.414870  function evals: 194592\n",
      "Estimated f(x_k): 2690.414871  function evals: 206754\n",
      "Estimated f(x_k): 2690.414871  function evals: 218916\n",
      "Estimated f(x_k): 2690.414871  function evals: 231078\n",
      "Estimated f(x_k): 2690.414871  function evals: 243240\n",
      "Estimated f(x_k): 2690.414871  function evals: 255402\n",
      "Estimated f(x_k): 2690.414870  function evals: 267564\n",
      "Estimated f(x_k): 2690.414871  function evals: 279726\n",
      "Estimated f(x_k): 2690.414870  function evals: 291888\n",
      "Estimated f(x_k): 2690.414871  function evals: 304050\n",
      "Estimated f(x_k): 2690.414871  function evals: 316212\n",
      "Estimated f(x_k): 2690.414871  function evals: 328374\n",
      "Estimated f(x_k): 2690.414871  function evals: 340536\n",
      "Estimated f(x_k): 2690.414870  function evals: 352698\n",
      "Estimated f(x_k): 2690.414871  function evals: 364860\n",
      "Estimated f(x_k): 2690.414871  function evals: 377022\n",
      "Estimated f(x_k): 2690.414870  function evals: 389184\n",
      "Estimated f(x_k): 2690.414871  function evals: 401346\n",
      "Estimated f(x_k): 2690.414871  function evals: 413508\n",
      "Estimated f(x_k): 2690.414871  function evals: 425670\n",
      "Estimated f(x_k): 2690.414871  function evals: 437832\n",
      "Estimated f(x_k): 2690.414871  function evals: 449994\n",
      "Estimated f(x_k): 2690.414871  function evals: 462156\n",
      "Estimated f(x_k): 2690.414871  function evals: 474318\n",
      "Estimated f(x_k): 2690.414870  function evals: 486480\n",
      "Estimated f(x_k): 2690.414871  function evals: 498642\n",
      "Estimated f(x_k): 2690.414871  function evals: 510804\n",
      "Estimated f(x_k): 2690.414871  function evals: 522966\n",
      "Estimated f(x_k): 2690.414871  function evals: 535128\n",
      "Estimated f(x_k): 2690.414871  function evals: 547290\n",
      "Estimated f(x_k): 2690.414871  function evals: 559452\n",
      "Estimated f(x_k): 2690.414871  function evals: 571614\n",
      "Estimated f(x_k): 2690.414871  function evals: 583776\n",
      "Estimated f(x_k): 2690.414871  function evals: 595938\n",
      "Estimated f(x_k): 2690.414871  function evals: 608100\n",
      "Estimated f(x_k): 2690.414871  function evals: 620262\n",
      "Estimated f(x_k): 2690.414871  function evals: 632424\n",
      "Estimated f(x_k): 2690.414871  function evals: 644586\n",
      "Estimated f(x_k): 2690.414870  function evals: 656748\n",
      "Estimated f(x_k): 2690.414871  function evals: 668910\n",
      "Estimated f(x_k): 2690.414870  function evals: 681072\n",
      "Estimated f(x_k): 2690.414871  function evals: 693234\n",
      "Estimated f(x_k): 2690.414871  function evals: 705396\n",
      "Estimated f(x_k): 2690.414871  function evals: 717558\n",
      "Estimated f(x_k): 2690.414871  function evals: 729720\n",
      "Estimated f(x_k): 2690.414871  function evals: 741882\n",
      "Estimated f(x_k): 2690.414871  function evals: 754044\n",
      "Estimated f(x_k): 2690.414871  function evals: 766206\n",
      "Estimated f(x_k): 2690.414871  function evals: 778368\n",
      "Estimated f(x_k): 2690.414871  function evals: 790530\n",
      "Estimated f(x_k): 2690.414871  function evals: 802692\n",
      "Estimated f(x_k): 2690.414870  function evals: 814854\n",
      "Estimated f(x_k): 2690.414871  function evals: 827016\n",
      "Estimated f(x_k): 2690.414871  function evals: 839178\n",
      "Estimated f(x_k): 2690.414870  function evals: 851340\n",
      "Estimated f(x_k): 2690.414871  function evals: 863502\n",
      "Estimated f(x_k): 2690.414870  function evals: 875664\n",
      "Estimated f(x_k): 2690.414870  function evals: 887826\n",
      "Estimated f(x_k): 2690.414871  function evals: 899988\n",
      "Estimated f(x_k): 2690.414871  function evals: 912150\n",
      "Estimated f(x_k): 2690.414871  function evals: 924312\n",
      "Estimated f(x_k): 2690.414871  function evals: 936474\n",
      "Estimated f(x_k): 2690.414871  function evals: 948636\n",
      "Estimated f(x_k): 2690.414870  function evals: 960798\n",
      "Estimated f(x_k): 2690.414870  function evals: 972960\n",
      "Estimated f(x_k): 2690.414871  function evals: 985122\n",
      "Estimated f(x_k): 2690.414871  function evals: 997284\n",
      "Estimated f(x_k): 2690.414871  function evals: 1009446\n"
     ]
    }
   ],
   "source": [
    "performance_log_ZORO_IHT=opt_IHT.Zoro()"
   ]
  },
  {
   "cell_type": "code",
   "execution_count": null,
   "metadata": {},
   "outputs": [],
   "source": [
    "performance_log_ZORO_DLasso=opt_DLasso.Zoro()"
   ]
  },
  {
   "cell_type": "code",
   "execution_count": null,
   "metadata": {},
   "outputs": [],
   "source": [
    "performance_log_ZORO_Co=opt_Co.Zoro()\n",
    "performance_log_ZORO_Lasso=opt_Lasso.Zoro()\n",
    "performance_log_ZORO_DLasso=opt_DLasso.Zoro()"
   ]
  },
  {
   "cell_type": "code",
   "execution_count": null,
   "metadata": {},
   "outputs": [],
   "source": [
    "fig, ax = plt.subplots()\n",
    "ax.plot(np.array(performance_log_ZORO_Co)[:,0],\n",
    " np.log10(np.array(performance_log_ZORO_Co)[:,1]), linewidth=1, label = \"ZORO_original\")\n",
    "ax.plot(np.array(performance_log_ZORO_Lasso)[:,0],\n",
    " np.log10(np.array(performance_log_ZORO_Lasso)[:,1]), linewidth=1, label = \"ZORO_Lasso\")\n",
    "#ax.plot(np.array(performance_log_ZORO_DLasso)[:,0],\n",
    " #np.log10(np.array(performance_log_ZORO_DLasso)[:,1]), linewidth=1, label = \"ZORO_DLasso\")\n",
    "plt.xlabel('number of queries')\n",
    "plt.ylabel('$log($f(x)$)$')\n",
    "leg = ax.legend()\n",
    "plt.show()"
   ]
  }
 ],
 "metadata": {
  "kernelspec": {
   "display_name": "base",
   "language": "python",
   "name": "python3"
  },
  "language_info": {
   "codemirror_mode": {
    "name": "ipython",
    "version": 3
   },
   "file_extension": ".py",
   "mimetype": "text/x-python",
   "name": "python",
   "nbconvert_exporter": "python",
   "pygments_lexer": "ipython3",
   "version": "3.9.12"
  },
  "orig_nbformat": 4
 },
 "nbformat": 4,
 "nbformat_minor": 2
}
