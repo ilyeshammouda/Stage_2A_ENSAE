{
 "cells": [
  {
   "cell_type": "code",
   "execution_count": null,
   "metadata": {},
   "outputs": [],
   "source": [
    "import os\n",
    "# Change the terminal placement to the folder where the py files  are located  \n",
    "os.chdir('/Users/ilyeshammouda/Desktop/Ilyes/2A ENSAE/stage/code_stage_2_A_ENSAE/Stage_2A_ENSAE/code') \n",
    "# We position ourselves in the directory where the main classes are located.\n",
    "print(f\" You are currently in the directory: {os.getcwd()}\")"
   ]
  },
  {
   "cell_type": "code",
   "execution_count": null,
   "metadata": {},
   "outputs": [],
   "source": [
    "from Zoro import *\n",
    "from functions import *\n",
    "from Zoro_MD import * \n",
    "from help_function import *\n",
    "\n",
    "import numpy as np\n",
    "import matplotlib.pyplot as plt\n",
    "import matplotlib as mpl\n",
    "import copy"
   ]
  },
  {
   "cell_type": "code",
   "execution_count": null,
   "metadata": {},
   "outputs": [],
   "source": [
    "mpl.style.use('seaborn')"
   ]
  },
  {
   "cell_type": "code",
   "execution_count": null,
   "metadata": {},
   "outputs": [],
   "source": [
    "# problem set up\n",
    "n = 2000\n",
    "s = int(0.1*n)\n",
    "# noise amplitude\n",
    "noiseamp = 0.001\n",
    "#noiseamp = 0 \n",
    "decay_factor=0.5\n",
    "x_star=tools.sparse_vector(n=n,s=s)\n",
    "A=np.random.normal(size=(n,n)) # Simulate a Gaussian Matrix for the norm_with_a_Gaussian_matrix function\n",
    "#x_star=tools.vecteur_sparse_support_S(n=n,s=s)\n",
    "#obj_func = SparseQuadric(n, s, noiseamp)\n",
    "#obj_func=CompressibleQuadric(n=n, decay_factor=decay_factor, noiseamp=noiseamp)\n",
    "#obj_func=SparseQuadric(n, s, noiseamp)\n",
    "#obj_func=square_of_the_difference_support_S(n,x_star,noiseamp)\n",
    "obj_func=norm_with_a_Gaussian_matrix(n,x_star,noiseamp)\n",
    "# Choose initialization\n",
    "x0    = np.random.randn(n)\n",
    "x0    = 100*x0/np.linalg.norm(x0)\n",
    "xx0   = copy.deepcopy(x0)\n",
    "\n",
    "sparsity = s\n",
    "#sparsity = int(0.1*len(x0)) # This is a decent default, if no better estimate is known. \n",
    "\n",
    "# Parameters for ZORO. Defaults are fine in most cases\n",
    "params = {\"step_size\":0.5, \"delta\": 0.0001, \"max_cosamp_iter\": 10, \n",
    "          \"cosamp_tol\": 0.5,\"sparsity\": sparsity,\n",
    "          \"num_samples\": int(np.ceil(np.log(len(x0))*sparsity))}\n",
    "\n",
    "performance_log_ZORO = [[0, obj_func(x0)]]"
   ]
  },
  {
   "cell_type": "code",
   "execution_count": null,
   "metadata": {},
   "outputs": [],
   "source": [
    "#IHT set up \n",
    "lamda_IHT=10 # lambda initialisation \n",
    "threshold_IHT=0.01 # lambda threshold\n",
    "C_IHT=0.9 # The update param for the lambda_k at each itteration.  \n",
    "step_IHT=1/(3*n) # The step of the IHT algo \n",
    "itt_IHT=40  # The maximum number of itterations for the IHT algo\n",
    "\n"
   ]
  },
  {
   "cell_type": "code",
   "execution_count": null,
   "metadata": {},
   "outputs": [],
   "source": [
    "#ISTA set up \n",
    "lamda_ISTA=10 # lambda initialisation \n",
    "threshold_ISTA=0.01 # lambda threshold\n",
    "C_ISTA=0.9 # The update param for the lambda_k at each itteration.  \n",
    "step_ISTA=1/(3*n) # The step of the IHT algo \n",
    "itt_ISTA=40  # The maximum number of itterations for the IHT algo\n",
    "\n"
   ]
  },
  {
   "cell_type": "code",
   "execution_count": null,
   "metadata": {},
   "outputs": [],
   "source": [
    "# IHT classique set up\n",
    "itt_IHT_cla=1000\n",
    "setp_IHT_cla=1/(3*n**2)\n",
    "s_IHT=s"
   ]
  },
  {
   "cell_type": "code",
   "execution_count": null,
   "metadata": {},
   "outputs": [],
   "source": [
    "#Original Version of the Zoro Algo with different algos for estimating the gradient\n",
    "opt_Co  = ZORO(x0, obj_func, params,algo='CoSaMP', function_budget= int(1e6),x_star=x_star)\n",
    "opt_Lasso  = ZORO(x0, obj_func, params,algo='Lasso', function_budget= int(1e6),itt_Lasso=100,tol_Lasso=0.01)\n",
    "opt_DLasso  = ZORO(x0, obj_func, params,algo='DLasso', function_budget= int(1e6),itt_Lasso=100,tol_Lasso=0.01)\n",
    "opt_IHT  = ZORO(x0, obj_func, params,algo='IHT_Classique', function_budget= int(1e6),s=sparsity,itt_IHT=itt_IHT_cla,step_IHT=setp_IHT_cla)\n",
    "opt_IHT_ad  = ZORO(x0, obj_func, params,algo='IHT_ad', function_budget= int(1e6),threshold_IHT=threshold_IHT,C_IHT=C_IHT,lamda_IHT=lamda_IHT,itt_IHT=itt_IHT,step_IHT=step_IHT)\n",
    "opt_ista_ad  = ZORO(x0, obj_func, params,algo='ISTA_ad', function_budget= int(1e6),threshold_ista=threshold_ISTA,C_ista=C_ISTA,lamda_ista=lamda_ISTA,itt_ista=itt_ISTA,step_ista=step_ISTA)\n",
    "# the actual optimization routine\n",
    "termination=False"
   ]
  },
  {
   "cell_type": "markdown",
   "metadata": {},
   "source": [
    "# Perform the original Zoro algorithm with different methods for estimating the gradient"
   ]
  },
  {
   "cell_type": "code",
   "execution_count": null,
   "metadata": {},
   "outputs": [],
   "source": [
    "performance_log_ZORO_Co,cost_Co=opt_Co.Zoro()"
   ]
  },
  {
   "cell_type": "code",
   "execution_count": null,
   "metadata": {},
   "outputs": [],
   "source": [
    "performance_log_ZORO_IHT_ad,cost_IHT_ad=opt_IHT_ad.Zoro()"
   ]
  },
  {
   "cell_type": "code",
   "execution_count": null,
   "metadata": {},
   "outputs": [],
   "source": [
    "performance_log_ZORO_IHT,cost_IHT=opt_IHT.Zoro()"
   ]
  },
  {
   "cell_type": "code",
   "execution_count": null,
   "metadata": {},
   "outputs": [],
   "source": [
    "performance_log_ZORO_Lasso,cost_Lasso=opt_Lasso.Zoro()"
   ]
  },
  {
   "cell_type": "code",
   "execution_count": null,
   "metadata": {},
   "outputs": [],
   "source": [
    "performance_log_ZORO_DLasso,cost_DLasso=opt_DLasso.Zoro()"
   ]
  },
  {
   "cell_type": "markdown",
   "metadata": {},
   "source": [
    "# Perform the Zoro algorithm with MD and different methods for estimating the gradient"
   ]
  },
  {
   "cell_type": "code",
   "execution_count": null,
   "metadata": {},
   "outputs": [],
   "source": [
    "#Original the Zoro Algo using MD and  with different algos for estimating the gradient\n",
    "opt_IHT_MD  = ZORO_MD(x0, obj_func, params,algo='IHT_Classique', function_budget= int(1e6),s=sparsity,itt_IHT=itt_IHT,x_star=x_star)\n",
    "opt_Co_MD  = ZORO_MD(x0, obj_func, params,algo='CoSaMP', function_budget= int(1e6),s=sparsity,itt_IHT=itt_IHT,x_star=x_star)\n",
    "opt_IHT_ad_MD  = ZORO_MD(x0, obj_func, params,algo='IHT_ad', function_budget= int(1e6),s=sparsity,itt_IHT=itt_IHT,x_star=x_star)\n",
    "opt_Lass_MD  = ZORO_MD(x0, obj_func, params,algo='Lasso', function_budget= int(1e6),itt_Lasso=100,tol_Lasso=0.01)\n",
    "opt_DLasso_MD  = ZORO_MD(x0, obj_func, params,algo='DLasso', function_budget= int(1e6),itt_Lasso=100,tol_Lasso=0.01)"
   ]
  },
  {
   "cell_type": "code",
   "execution_count": null,
   "metadata": {},
   "outputs": [],
   "source": [
    "performance_log_ZORO_Co_MD,cost_Co_MD=opt_Co_MD.Zoro_MD()"
   ]
  },
  {
   "cell_type": "code",
   "execution_count": null,
   "metadata": {},
   "outputs": [],
   "source": [
    "performance_log_ZORO_IHT_MD,cost_IHT_MD=opt_IHT_MD.Zoro_MD()"
   ]
  },
  {
   "cell_type": "code",
   "execution_count": null,
   "metadata": {},
   "outputs": [],
   "source": [
    "performance_log_ZORO_Lasso_MD,cost_Lasso_MD=opt_Lass_MD.Zoro_MD()"
   ]
  },
  {
   "cell_type": "code",
   "execution_count": null,
   "metadata": {},
   "outputs": [],
   "source": [
    "performance_log_ZORO_IHT_ad_MD,cost__IHT_ad_MD=opt_IHT_ad_MD.Zoro_MD()\n"
   ]
  },
  {
   "cell_type": "code",
   "execution_count": null,
   "metadata": {},
   "outputs": [],
   "source": [
    "performance_log_ZORO_DLasso_MD,cost_DLasso_MD=opt_DLasso_MD.Zoro_MD()"
   ]
  },
  {
   "cell_type": "code",
   "execution_count": null,
   "metadata": {},
   "outputs": [],
   "source": [
    "fig, ax = plt.subplots()\n",
    "ax.plot(np.array(performance_log_ZORO_Lasso_MD)[:,0],\n",
    " (np.log10(np.array(performance_log_ZORO_Lasso_MD)[:,1])), linewidth=1, label = \"ZORO Lasso MD\")\n",
    "#ax.plot(np.array(performance_log_ZORO_Co_MD)[:,0],\n",
    " #(np.array(performance_log_ZORO_Co_MD)[:,1]), linewidth=1, label = \"ZORO_MD\")\n",
    "ax.plot(np.array(performance_log_ZORO_IHT_MD)[:,0],\n",
    " (np.log10(np.array(performance_log_ZORO_IHT_MD)[:,1])), linewidth=1, label = \"ZORO IHT  MD\")\n",
    "ax.plot(np.array(performance_log_ZORO_Co_MD)[:,0],\n",
    " (np.log10(np.array(performance_log_ZORO_Co_MD)[:,1])), linewidth=1, label = \"ZORO original MD\")\n",
    "ax.plot(np.array(performance_log_ZORO_IHT_ad_MD)[:,0],\n",
    " (np.log10(np.array(performance_log_ZORO_IHT_ad_MD)[:,1])), linewidth=1, label = \"ZORO IHT ad MD\")\n",
    "ax.plot(np.array(performance_log_ZORO_DLasso_MD)[:,0],\n",
    " (np.log10(np.array(performance_log_ZORO_DLasso_MD)[:,1])), linewidth=1, label = \"ZORO DLasso MD\")\n",
    "ax.plot(np.array(performance_log_ZORO_Co)[:,0],\n",
    " (np.log10(np.array(performance_log_ZORO_Co)[:,1])), linewidth=1, label = \"ZORO Original\")\n",
    "ax.plot(np.array(performance_log_ZORO_IHT)[:,0],\n",
    " (np.log10(np.array(performance_log_ZORO_IHT)[:,1])), linewidth=1, label = \"ZORO Original IHT \")\n",
    "ax.plot(np.array(performance_log_ZORO_IHT_ad)[:,0],\n",
    " (np.log10(np.array(performance_log_ZORO_IHT_ad)[:,1])), linewidth=1, label = \"ZORO Original IHT ad \")\n",
    "\n",
    "plt.xlabel('number of queries')\n",
    "plt.ylabel('$log_{10}(f(x_{k})-f^{*})$')\n",
    "leg = ax.legend()\n",
    "plt.show()"
   ]
  },
  {
   "cell_type": "code",
   "execution_count": null,
   "metadata": {},
   "outputs": [],
   "source": [
    "fig, ax = plt.subplots()\n",
    "ax.plot(np.array(cost_Co)[:,0],\n",
    " (np.array(cost_Co)[:,1]), linewidth=1, label = \"ZORO original\")\n",
    "\n",
    "ax.plot(np.array(cost_IHT)[:,0],\n",
    " (np.array(cost_IHT)[:,1]), linewidth=1, label = \"ZORO original IHT\")\n",
    "ax.plot(np.array(cost_IHT_ad)[:,0],\n",
    " (np.array(cost_IHT_ad)[:,1]), linewidth=1, label = \"ZORO original IHT ad \")\n",
    "ax.plot(np.array(cost_Co_MD)[:,0],\n",
    " (np.array(cost_Co_MD)[:,1]), linewidth=1, label = \"ZORO original MD\")\n",
    "ax.plot(np.array(cost_IHT_MD)[:,0],\n",
    " (np.array(cost_IHT_MD)[:,1]), linewidth=1, label = \"ZORO IHT MD\")\n",
    "ax.plot(np.array(cost__IHT_ad_MD)[:,0],\n",
    " (np.array(cost__IHT_ad_MD)[:,1]), linewidth=1, label = \"ZORO IHT ad MD\")\n",
    "ax.plot(np.array(cost_Lasso_MD)[:,0],\n",
    " (np.array(cost_Lasso_MD)[:,1]), linewidth=1, label = \"ZORO Lasso MD\")\n",
    "ax.plot(np.array(cost_DLasso_MD)[:,0],\n",
    " (np.array(cost_DLasso_MD)[:,1]), linewidth=1, label = \"ZORO DLasso MD\")\n",
    "\n",
    "plt.xlabel('number of queries')\n",
    "plt.ylabel('$ || x_{k}-x{*}||_{2} $')\n",
    "leg = ax.legend()\n",
    "plt.show()"
   ]
  }
 ],
 "metadata": {
  "kernelspec": {
   "display_name": "base",
   "language": "python",
   "name": "python3"
  },
  "language_info": {
   "codemirror_mode": {
    "name": "ipython",
    "version": 3
   },
   "file_extension": ".py",
   "mimetype": "text/x-python",
   "name": "python",
   "nbconvert_exporter": "python",
   "pygments_lexer": "ipython3",
   "version": "3.9.12"
  },
  "orig_nbformat": 4
 },
 "nbformat": 4,
 "nbformat_minor": 2
}
