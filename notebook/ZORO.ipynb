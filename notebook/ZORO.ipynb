{
 "cells": [
  {
   "cell_type": "code",
   "execution_count": 1,
   "metadata": {},
   "outputs": [
    {
     "name": "stdout",
     "output_type": "stream",
     "text": [
      " You are currently in the directory: /Users/ilyeshammouda/Desktop/Ilyes/2A ENSAE/stage/code_stage_2_A_ENSAE/Stage_2A_ENSAE/code\n"
     ]
    }
   ],
   "source": [
    "import os\n",
    "os.chdir('/Users/ilyeshammouda/Desktop/Ilyes/2A ENSAE/stage/code_stage_2_A_ENSAE/Stage_2A_ENSAE/code') \n",
    "# We position ourselves in the directory where the main classes are located.\n",
    "print(f\" You are currently in the directory: {os.getcwd()}\")"
   ]
  },
  {
   "cell_type": "code",
   "execution_count": 2,
   "metadata": {},
   "outputs": [],
   "source": [
    "from Zoro import *\n",
    "from functions import *\n",
    "\n",
    "import numpy as np\n",
    "import matplotlib.pyplot as plt\n",
    "import matplotlib as mpl\n",
    "import copy"
   ]
  },
  {
   "cell_type": "code",
   "execution_count": 3,
   "metadata": {},
   "outputs": [],
   "source": [
    "mpl.style.use('seaborn')"
   ]
  },
  {
   "cell_type": "code",
   "execution_count": 5,
   "metadata": {},
   "outputs": [],
   "source": [
    "# problem set up\n",
    "n = 2000\n",
    "#s = int(0.1*n)\n",
    "noiseamp = 0.001 # noise amplitude\n",
    "decay_factor=0.5\n",
    "#obj_func = SparseQuadric(n, s, noiseamp)\n",
    "obj_func=CompressibleQuadric(n=n, decay_factor=decay_factor, noiseamp=noiseamp)\n",
    "\n",
    "# Choose initialization\n",
    "x0    = np.random.randn(n)\n",
    "x0    = 100*x0/np.linalg.norm(x0)\n",
    "xx0   = copy.deepcopy(x0)\n",
    "\n",
    "#sparsity = s\n",
    "sparsity = int(0.1*len(x0)) # This is a decent default, if no better estimate is known. \n",
    "\n",
    "# Parameters for ZORO. Defaults are fine in most cases\n",
    "params = {\"step_size\":1.0, \"delta\": 0.0001, \"max_cosamp_iter\": 10, \n",
    "          \"cosamp_tol\": 0.5,\"sparsity\": sparsity,\n",
    "          \"num_samples\": int(np.ceil(np.log(len(x0))*sparsity))}\n",
    "\n",
    "performance_log_ZORO = [[0, obj_func(x0)]]"
   ]
  },
  {
   "cell_type": "code",
   "execution_count": 6,
   "metadata": {},
   "outputs": [],
   "source": [
    "#IHT set up \n",
    "threshold_IHT=2\n",
    "step_IHT=0.0000001\n",
    "itt_IHT=30 \n",
    "C_IHT=0.3 # threshold update\n",
    "lamda_IHT=3 # threshold param "
   ]
  },
  {
   "cell_type": "code",
   "execution_count": 7,
   "metadata": {},
   "outputs": [],
   "source": [
    "opt_Co  = ZORO(x0, obj_func, params,algo='CoSaMP', function_budget= int(1e6))\n",
    "opt_Lasso  = ZORO(x0, obj_func, params,algo='Lasso', function_budget= int(1e6))\n",
    "opt_DLasso  = ZORO(x0, obj_func, params,algo='DLasso', function_budget= int(1e6))\n",
    "opt_IHT  = ZORO(x0, obj_func, params,algo='IHT_Classique', function_budget= int(1e6),s=sparsity)\n",
    "opt_IHT  = ZORO(x0, obj_func, params,algo='IHT_Classique', function_budget= int(1e6),s=2*sparsity,itt_IHT=itt_IHT)\n",
    "opt_IHT_ad  = ZORO(x0, obj_func, params,algo='IHT_ad', function_budget= int(1e6),threshold_IHT=threshold_IHT,C_IHT=C_IHT,lamda_IHT=lamda_IHT,itt_IHT=itt_IHT,step_IHT=step_IHT)\n",
    "\n",
    "# the actual optimization routine\n",
    "termination=False"
   ]
  },
  {
   "cell_type": "code",
   "execution_count": 8,
   "metadata": {},
   "outputs": [
    {
     "name": "stdout",
     "output_type": "stream",
     "text": [
      "Estimated f(x_k): 8.545197  function evals: 3042\n",
      "Estimated f(x_k): 8.544715  function evals: 6084\n",
      "Estimated f(x_k): 8.544385  function evals: 9126\n",
      "Estimated f(x_k): 8.544203  function evals: 12168\n",
      "Estimated f(x_k): 8.544172  function evals: 15210\n",
      "Estimated f(x_k): 8.544289  function evals: 18252\n",
      "Estimated f(x_k): 8.544558  function evals: 21294\n",
      "Estimated f(x_k): 8.544974  function evals: 24336\n",
      "Estimated f(x_k): 8.545542  function evals: 27378\n",
      "Estimated f(x_k): 8.546258  function evals: 30420\n",
      "Estimated f(x_k): 8.547126  function evals: 33462\n",
      "Estimated f(x_k): 8.548141  function evals: 36504\n",
      "Estimated f(x_k): 8.549307  function evals: 39546\n",
      "Estimated f(x_k): 8.550624  function evals: 42588\n",
      "Estimated f(x_k): 8.552090  function evals: 45630\n",
      "Estimated f(x_k): 8.553704  function evals: 48672\n",
      "Estimated f(x_k): 8.555470  function evals: 51714\n",
      "Estimated f(x_k): 8.557384  function evals: 54756\n",
      "Estimated f(x_k): 8.559450  function evals: 57798\n",
      "Estimated f(x_k): 8.561663  function evals: 60840\n",
      "Estimated f(x_k): 8.564028  function evals: 63882\n",
      "Estimated f(x_k): 8.566541  function evals: 66924\n",
      "Estimated f(x_k): 8.569205  function evals: 69966\n",
      "Estimated f(x_k): 8.572018  function evals: 73008\n",
      "Estimated f(x_k): 8.574980  function evals: 76050\n",
      "Estimated f(x_k): 8.578094  function evals: 79092\n",
      "Estimated f(x_k): 8.581355  function evals: 82134\n",
      "Estimated f(x_k): 8.584768  function evals: 85176\n",
      "Estimated f(x_k): 8.588330  function evals: 88218\n",
      "Estimated f(x_k): 8.592041  function evals: 91260\n",
      "Estimated f(x_k): 8.595903  function evals: 94302\n",
      "Estimated f(x_k): 8.599914  function evals: 97344\n",
      "Estimated f(x_k): 8.604074  function evals: 100386\n",
      "Estimated f(x_k): 8.608385  function evals: 103428\n",
      "Estimated f(x_k): 8.612845  function evals: 106470\n",
      "Estimated f(x_k): 8.617455  function evals: 109512\n",
      "Estimated f(x_k): 8.622214  function evals: 112554\n",
      "Estimated f(x_k): 8.627123  function evals: 115596\n",
      "Estimated f(x_k): 8.632184  function evals: 118638\n",
      "Estimated f(x_k): 8.637393  function evals: 121680\n",
      "Estimated f(x_k): 8.642750  function evals: 124722\n",
      "Estimated f(x_k): 8.648259  function evals: 127764\n",
      "Estimated f(x_k): 8.653917  function evals: 130806\n",
      "Estimated f(x_k): 8.659725  function evals: 133848\n",
      "Estimated f(x_k): 8.665682  function evals: 136890\n",
      "Estimated f(x_k): 8.671790  function evals: 139932\n",
      "Estimated f(x_k): 8.678047  function evals: 142974\n",
      "Estimated f(x_k): 8.684453  function evals: 146016\n",
      "Estimated f(x_k): 8.691010  function evals: 149058\n",
      "Estimated f(x_k): 8.697715  function evals: 152100\n"
     ]
    },
    {
     "ename": "KeyboardInterrupt",
     "evalue": "",
     "output_type": "error",
     "traceback": [
      "\u001b[0;31m---------------------------------------------------------------------------\u001b[0m",
      "\u001b[0;31mKeyboardInterrupt\u001b[0m                         Traceback (most recent call last)",
      "\u001b[1;32m/Users/ilyeshammouda/Desktop/Ilyes/2A ENSAE/stage/code_stage_2_A_ENSAE/Stage_2A_ENSAE/notebook/ZORO.ipynb Cellule 7\u001b[0m in \u001b[0;36m<cell line: 1>\u001b[0;34m()\u001b[0m\n\u001b[0;32m----> <a href='vscode-notebook-cell:/Users/ilyeshammouda/Desktop/Ilyes/2A%20ENSAE/stage/code_stage_2_A_ENSAE/Stage_2A_ENSAE/notebook/ZORO.ipynb#W5sZmlsZQ%3D%3D?line=0'>1</a>\u001b[0m performance_log_ZORO_IHT\u001b[39m=\u001b[39mopt_IHT\u001b[39m.\u001b[39;49mZoro()\n",
      "File \u001b[0;32m~/Desktop/Ilyes/2A ENSAE/stage/code_stage_2_A_ENSAE/Stage_2A_ENSAE/code/Zoro.py:137\u001b[0m, in \u001b[0;36mZORO.Zoro\u001b[0;34m(self)\u001b[0m\n\u001b[1;32m    135\u001b[0m termination \u001b[39m=\u001b[39m \u001b[39mFalse\u001b[39;00m\n\u001b[1;32m    136\u001b[0m \u001b[39mwhile\u001b[39;00m termination \u001b[39mis\u001b[39;00m \u001b[39mFalse\u001b[39;00m:\n\u001b[0;32m--> 137\u001b[0m     evals_ZORO, solution_ZORO, termination \u001b[39m=\u001b[39m \u001b[39mself\u001b[39;49m\u001b[39m.\u001b[39;49mstep()\n\u001b[1;32m    138\u001b[0m     \u001b[39m# save some useful values\u001b[39;00m\n\u001b[1;32m    139\u001b[0m     \u001b[39m#performance_log_ZORO.append( [evals_ZORO,np.mean(self.fd)] )\u001b[39;00m\n\u001b[1;32m    140\u001b[0m     \u001b[39m# print some useful values\u001b[39;00m\n\u001b[1;32m    141\u001b[0m     performance_log_ZORO\u001b[39m.\u001b[39mappend( [evals_ZORO,\u001b[39mself\u001b[39m\u001b[39m.\u001b[39mf(solution_ZORO)] )\n",
      "File \u001b[0;32m~/Desktop/Ilyes/2A ENSAE/stage/code_stage_2_A_ENSAE/Stage_2A_ENSAE/code/Zoro.py:113\u001b[0m, in \u001b[0;36mZORO.step\u001b[0;34m(self)\u001b[0m\n\u001b[1;32m    108\u001b[0m \u001b[39mdef\u001b[39;00m \u001b[39mstep\u001b[39m(\u001b[39mself\u001b[39m):\n\u001b[1;32m    109\u001b[0m     \u001b[39m'''\u001b[39;00m\n\u001b[1;32m    110\u001b[0m \u001b[39m    Take step of optimizer\u001b[39;00m\n\u001b[1;32m    111\u001b[0m \u001b[39m    '''\u001b[39;00m\n\u001b[0;32m--> 113\u001b[0m     grad_est, f_est \u001b[39m=\u001b[39m \u001b[39mself\u001b[39;49m\u001b[39m.\u001b[39;49mGradEstimate()\n\u001b[1;32m    114\u001b[0m     \u001b[39mself\u001b[39m\u001b[39m.\u001b[39mfd \u001b[39m=\u001b[39m f_est\n\u001b[1;32m    115\u001b[0m     \u001b[39m# Note that if no prox operator was specified then self.prox is the\u001b[39;00m\n\u001b[1;32m    116\u001b[0m     \u001b[39m# identity mapping.\u001b[39;00m\n",
      "File \u001b[0;32m~/Desktop/Ilyes/2A ENSAE/stage/code_stage_2_A_ENSAE/Stage_2A_ENSAE/code/Zoro.py:100\u001b[0m, in \u001b[0;36mZORO.GradEstimate\u001b[0;34m(self)\u001b[0m\n\u001b[1;32m     98\u001b[0m     grad_estimate\u001b[39m=\u001b[39mdebiased_Lasso(y,Z,delta)\n\u001b[1;32m     99\u001b[0m \u001b[39mif\u001b[39;00m \u001b[39mself\u001b[39m\u001b[39m.\u001b[39malgo\u001b[39m==\u001b[39m\u001b[39m'\u001b[39m\u001b[39mIHT_Classique\u001b[39m\u001b[39m'\u001b[39m:\n\u001b[0;32m--> 100\u001b[0m     grad_estimate\u001b[39m=\u001b[39mIHT_classique(X\u001b[39m=\u001b[39;49mZ,Y\u001b[39m=\u001b[39;49my,s\u001b[39m=\u001b[39;49m\u001b[39mself\u001b[39;49m\u001b[39m.\u001b[39;49ms,step\u001b[39m=\u001b[39;49m\u001b[39mself\u001b[39;49m\u001b[39m.\u001b[39;49mstep_IHT,max_iterations\u001b[39m=\u001b[39;49m\u001b[39mself\u001b[39;49m\u001b[39m.\u001b[39;49mitt_IHT)\n\u001b[1;32m    101\u001b[0m \u001b[39mif\u001b[39;00m \u001b[39mself\u001b[39m\u001b[39m.\u001b[39malgo\u001b[39m==\u001b[39m\u001b[39m'\u001b[39m\u001b[39mIHT_ad\u001b[39m\u001b[39m'\u001b[39m:\n\u001b[1;32m    102\u001b[0m     grad_estimate\u001b[39m=\u001b[39mIHT_ad(X\u001b[39m=\u001b[39mZ,Y\u001b[39m=\u001b[39my,threshold\u001b[39m=\u001b[39m\u001b[39mself\u001b[39m\u001b[39m.\u001b[39mthreshold_IHT,C\u001b[39m=\u001b[39m\u001b[39mself\u001b[39m\u001b[39m.\u001b[39mC_IHT,step\u001b[39m=\u001b[39m\u001b[39mself\u001b[39m\u001b[39m.\u001b[39mstep_IHT,max_iterations\u001b[39m=\u001b[39m\u001b[39mself\u001b[39m\u001b[39m.\u001b[39mitt_IHT,lamda\u001b[39m=\u001b[39m\u001b[39mself\u001b[39m\u001b[39m.\u001b[39mlamda_IHT)\n",
      "File \u001b[0;32m~/Desktop/Ilyes/2A ENSAE/stage/code_stage_2_A_ENSAE/Stage_2A_ENSAE/code/help_function.py:50\u001b[0m, in \u001b[0;36mIHT_classique\u001b[0;34m(X, Y, s, step, max_iterations)\u001b[0m\n\u001b[1;32m     48\u001b[0m Z,beta_hat\u001b[39m=\u001b[39mnp\u001b[39m.\u001b[39mzeros(m),np\u001b[39m.\u001b[39mones(m)     \n\u001b[1;32m     49\u001b[0m \u001b[39mfor\u001b[39;00m i \u001b[39min\u001b[39;00m \u001b[39mrange\u001b[39m(max_iterations):\n\u001b[0;32m---> 50\u001b[0m     Z\u001b[39m=\u001b[39mbeta_hat\u001b[39m+\u001b[39m(step\u001b[39m*\u001b[39;49m(X\u001b[39m.\u001b[39;49mT)\u001b[39m@\u001b[39;49m(Y\u001b[39m-\u001b[39;49mX\u001b[39m@beta_hat\u001b[39;49m))\n\u001b[1;32m     51\u001b[0m     beta_hat\u001b[39m=\u001b[39ms_grands_comp(Z, s)\n\u001b[1;32m     52\u001b[0m \u001b[39mreturn\u001b[39;00m beta_hat\n",
      "\u001b[0;31mKeyboardInterrupt\u001b[0m: "
     ]
    }
   ],
   "source": [
    "performance_log_ZORO_IHT=opt_IHT.Zoro()"
   ]
  },
  {
   "cell_type": "code",
   "execution_count": 9,
   "metadata": {},
   "outputs": [
    {
     "name": "stdout",
     "output_type": "stream",
     "text": [
      "Estimated f(x_k): 8.545197  function evals: 3042\n",
      "Estimated f(x_k): 3.629171  function evals: 6084\n",
      "Estimated f(x_k): 2.873743  function evals: 9126\n",
      "Estimated f(x_k): 2.574719  function evals: 12168\n",
      "Estimated f(x_k): 2.328659  function evals: 15210\n",
      "Estimated f(x_k): 2.123038  function evals: 18252\n",
      "Estimated f(x_k): 1.965377  function evals: 21294\n",
      "Estimated f(x_k): 1.843162  function evals: 24336\n",
      "Estimated f(x_k): 1.716716  function evals: 27378\n",
      "Estimated f(x_k): 1.593089  function evals: 30420\n",
      "Estimated f(x_k): 1.489942  function evals: 33462\n",
      "Estimated f(x_k): 1.405707  function evals: 36504\n",
      "Estimated f(x_k): 1.331910  function evals: 39546\n",
      "Estimated f(x_k): 1.247503  function evals: 42588\n",
      "Estimated f(x_k): 1.158508  function evals: 45630\n",
      "Estimated f(x_k): 1.100398  function evals: 48672\n",
      "Estimated f(x_k): 1.013127  function evals: 51714\n",
      "Estimated f(x_k): 0.949676  function evals: 54756\n",
      "Estimated f(x_k): 0.853309  function evals: 57798\n",
      "Estimated f(x_k): 0.795714  function evals: 60840\n",
      "Estimated f(x_k): 0.708577  function evals: 63882\n",
      "Estimated f(x_k): 0.649820  function evals: 66924\n",
      "Estimated f(x_k): 0.586242  function evals: 69966\n",
      "Estimated f(x_k): 0.534552  function evals: 73008\n",
      "Estimated f(x_k): 0.474975  function evals: 76050\n",
      "Estimated f(x_k): 0.413484  function evals: 79092\n",
      "Estimated f(x_k): 0.354216  function evals: 82134\n",
      "Estimated f(x_k): 0.312558  function evals: 85176\n",
      "Estimated f(x_k): 0.272130  function evals: 88218\n",
      "Estimated f(x_k): 0.241553  function evals: 91260\n",
      "Estimated f(x_k): 0.231020  function evals: 94302\n"
     ]
    },
    {
     "ename": "KeyboardInterrupt",
     "evalue": "",
     "output_type": "error",
     "traceback": [
      "\u001b[0;31m---------------------------------------------------------------------------\u001b[0m",
      "\u001b[0;31mKeyboardInterrupt\u001b[0m                         Traceback (most recent call last)",
      "\u001b[1;32m/Users/ilyeshammouda/Desktop/Ilyes/2A ENSAE/stage/code_stage_2_A_ENSAE/Stage_2A_ENSAE/notebook/ZORO.ipynb Cellule 8\u001b[0m in \u001b[0;36m<cell line: 1>\u001b[0;34m()\u001b[0m\n\u001b[0;32m----> <a href='vscode-notebook-cell:/Users/ilyeshammouda/Desktop/Ilyes/2A%20ENSAE/stage/code_stage_2_A_ENSAE/Stage_2A_ENSAE/notebook/ZORO.ipynb#X10sZmlsZQ%3D%3D?line=0'>1</a>\u001b[0m performance_log_ZORO_Co\u001b[39m=\u001b[39mopt_Co\u001b[39m.\u001b[39;49mZoro()\n",
      "File \u001b[0;32m~/Desktop/Ilyes/2A ENSAE/stage/code_stage_2_A_ENSAE/Stage_2A_ENSAE/code/Zoro.py:137\u001b[0m, in \u001b[0;36mZORO.Zoro\u001b[0;34m(self)\u001b[0m\n\u001b[1;32m    135\u001b[0m termination \u001b[39m=\u001b[39m \u001b[39mFalse\u001b[39;00m\n\u001b[1;32m    136\u001b[0m \u001b[39mwhile\u001b[39;00m termination \u001b[39mis\u001b[39;00m \u001b[39mFalse\u001b[39;00m:\n\u001b[0;32m--> 137\u001b[0m     evals_ZORO, solution_ZORO, termination \u001b[39m=\u001b[39m \u001b[39mself\u001b[39;49m\u001b[39m.\u001b[39;49mstep()\n\u001b[1;32m    138\u001b[0m     \u001b[39m# save some useful values\u001b[39;00m\n\u001b[1;32m    139\u001b[0m     \u001b[39m#performance_log_ZORO.append( [evals_ZORO,np.mean(self.fd)] )\u001b[39;00m\n\u001b[1;32m    140\u001b[0m     \u001b[39m# print some useful values\u001b[39;00m\n\u001b[1;32m    141\u001b[0m     performance_log_ZORO\u001b[39m.\u001b[39mappend( [evals_ZORO,\u001b[39mself\u001b[39m\u001b[39m.\u001b[39mf(solution_ZORO)] )\n",
      "File \u001b[0;32m~/Desktop/Ilyes/2A ENSAE/stage/code_stage_2_A_ENSAE/Stage_2A_ENSAE/code/Zoro.py:113\u001b[0m, in \u001b[0;36mZORO.step\u001b[0;34m(self)\u001b[0m\n\u001b[1;32m    108\u001b[0m \u001b[39mdef\u001b[39;00m \u001b[39mstep\u001b[39m(\u001b[39mself\u001b[39m):\n\u001b[1;32m    109\u001b[0m     \u001b[39m'''\u001b[39;00m\n\u001b[1;32m    110\u001b[0m \u001b[39m    Take step of optimizer\u001b[39;00m\n\u001b[1;32m    111\u001b[0m \u001b[39m    '''\u001b[39;00m\n\u001b[0;32m--> 113\u001b[0m     grad_est, f_est \u001b[39m=\u001b[39m \u001b[39mself\u001b[39;49m\u001b[39m.\u001b[39;49mGradEstimate()\n\u001b[1;32m    114\u001b[0m     \u001b[39mself\u001b[39m\u001b[39m.\u001b[39mfd \u001b[39m=\u001b[39m f_est\n\u001b[1;32m    115\u001b[0m     \u001b[39m# Note that if no prox operator was specified then self.prox is the\u001b[39;00m\n\u001b[1;32m    116\u001b[0m     \u001b[39m# identity mapping.\u001b[39;00m\n",
      "File \u001b[0;32m~/Desktop/Ilyes/2A ENSAE/stage/code_stage_2_A_ENSAE/Stage_2A_ENSAE/code/Zoro.py:94\u001b[0m, in \u001b[0;36mZORO.GradEstimate\u001b[0;34m(self)\u001b[0m\n\u001b[1;32m     92\u001b[0m Z \u001b[39m=\u001b[39m Z\u001b[39m/\u001b[39mnp\u001b[39m.\u001b[39msqrt(num_samples)\n\u001b[1;32m     93\u001b[0m \u001b[39mif\u001b[39;00m \u001b[39mself\u001b[39m\u001b[39m.\u001b[39malgo\u001b[39m==\u001b[39m\u001b[39m'\u001b[39m\u001b[39mCoSaMP\u001b[39m\u001b[39m'\u001b[39m:\n\u001b[0;32m---> 94\u001b[0m     grad_estimate \u001b[39m=\u001b[39m cosamp(Z, y, sparsity, tol, maxiterations)\n\u001b[1;32m     95\u001b[0m \u001b[39mif\u001b[39;00m \u001b[39mself\u001b[39m\u001b[39m.\u001b[39malgo\u001b[39m==\u001b[39m\u001b[39m'\u001b[39m\u001b[39mLasso\u001b[39m\u001b[39m'\u001b[39m:\n\u001b[1;32m     96\u001b[0m     grad_estimate\u001b[39m=\u001b[39mLasso_reg(y,Z)\n",
      "File \u001b[0;32m~/Desktop/Ilyes/2A ENSAE/stage/code_stage_2_A_ENSAE/Stage_2A_ENSAE/code/Cosamp.py:62\u001b[0m, in \u001b[0;36mcosamp\u001b[0;34m(Phi, u, K, tol, maxiterations)\u001b[0m\n\u001b[1;32m     60\u001b[0m T \u001b[39m=\u001b[39m np\u001b[39m.\u001b[39munion1d(Omega, T)\n\u001b[1;32m     61\u001b[0m T \u001b[39m=\u001b[39m T\u001b[39m.\u001b[39mastype(\u001b[39mint\u001b[39m)\n\u001b[0;32m---> 62\u001b[0m b ,_ ,_ ,_ \u001b[39m=\u001b[39m la\u001b[39m.\u001b[39;49mlstsq(Phi[:,T], u, rcond\u001b[39m=\u001b[39;49m\u001b[39mNone\u001b[39;49;00m)\n\u001b[1;32m     64\u001b[0m Kgoodindices \u001b[39m=\u001b[39m np\u001b[39m.\u001b[39margpartition(\u001b[39m-\u001b[39m\u001b[39mabs\u001b[39m(b), K)\n\u001b[1;32m     65\u001b[0m Kgoodindices \u001b[39m=\u001b[39m Kgoodindices[:K]\n",
      "File \u001b[0;32m<__array_function__ internals>:5\u001b[0m, in \u001b[0;36mlstsq\u001b[0;34m(*args, **kwargs)\u001b[0m\n",
      "File \u001b[0;32m~/opt/anaconda3/lib/python3.9/site-packages/numpy/linalg/linalg.py:2306\u001b[0m, in \u001b[0;36mlstsq\u001b[0;34m(a, b, rcond)\u001b[0m\n\u001b[1;32m   2303\u001b[0m \u001b[39mif\u001b[39;00m n_rhs \u001b[39m==\u001b[39m \u001b[39m0\u001b[39m:\n\u001b[1;32m   2304\u001b[0m     \u001b[39m# lapack can't handle n_rhs = 0 - so allocate the array one larger in that axis\u001b[39;00m\n\u001b[1;32m   2305\u001b[0m     b \u001b[39m=\u001b[39m zeros(b\u001b[39m.\u001b[39mshape[:\u001b[39m-\u001b[39m\u001b[39m2\u001b[39m] \u001b[39m+\u001b[39m (m, n_rhs \u001b[39m+\u001b[39m \u001b[39m1\u001b[39m), dtype\u001b[39m=\u001b[39mb\u001b[39m.\u001b[39mdtype)\n\u001b[0;32m-> 2306\u001b[0m x, resids, rank, s \u001b[39m=\u001b[39m gufunc(a, b, rcond, signature\u001b[39m=\u001b[39;49msignature, extobj\u001b[39m=\u001b[39;49mextobj)\n\u001b[1;32m   2307\u001b[0m \u001b[39mif\u001b[39;00m m \u001b[39m==\u001b[39m \u001b[39m0\u001b[39m:\n\u001b[1;32m   2308\u001b[0m     x[\u001b[39m.\u001b[39m\u001b[39m.\u001b[39m\u001b[39m.\u001b[39m] \u001b[39m=\u001b[39m \u001b[39m0\u001b[39m\n",
      "\u001b[0;31mKeyboardInterrupt\u001b[0m: "
     ]
    }
   ],
   "source": [
    "performance_log_ZORO_Co=opt_Co.Zoro()\n",
    "#performance_log_ZORO_DLasso=opt_DLasso.Zoro()\n",
    "#performance_log_ZORO_Lasso=opt_Lasso.Zoro()\n",
    "#performance_log_ZORO_DLasso=opt_DLasso.Zoro()"
   ]
  },
  {
   "cell_type": "code",
   "execution_count": 11,
   "metadata": {},
   "outputs": [
    {
     "data": {
      "image/png": "[encoded data removed]",
      "text/plain": [
       "<Figure size 576x396 with 1 Axes>"
      ]
     },
     "metadata": {},
     "output_type": "display_data"
    }
   ],
   "source": [
    "fig, ax = plt.subplots()\n",
    "ax.plot(np.array(performance_log_ZORO_Co)[:,0],\n",
    " np.log10(np.array(performance_log_ZORO_Co)[:,1]), linewidth=1, label = \"ZORO_original\")\n",
    "ax.plot(np.array(performance_log_ZORO_IHT)[:,0],\n",
    " np.log10(np.array(performance_log_ZORO_IHT)[:,1]), linewidth=1, label = \"ZORO_IHT\")\n",
    "#ax.plot(np.array(performance_log_ZORO_Lasso)[:,0],\n",
    " #np.log10(np.array(performance_log_ZORO_Lasso)[:,1]), linewidth=1, label = \"ZORO_Lasso\")\n",
    "#ax.plot(np.array(performance_log_ZORO_DLasso)[:,0],\n",
    " #np.log10(np.array(performance_log_ZORO_DLasso)[:,1]), linewidth=1, label = \"ZORO_DLasso\")\n",
    "plt.xlabel('number of queries')\n",
    "plt.ylabel('$log($f(x)$)$')\n",
    "leg = ax.legend()\n",
    "plt.show()"
   ]
  }
 ],
 "metadata": {
  "kernelspec": {
   "display_name": "base",
   "language": "python",
   "name": "python3"
  },
  "language_info": {
   "codemirror_mode": {
    "name": "ipython",
    "version": 3
   },
   "file_extension": ".py",
   "mimetype": "text/x-python",
   "name": "python",
   "nbconvert_exporter": "python",
   "pygments_lexer": "ipython3",
   "version": "3.9.12"
  },
  "orig_nbformat": 4
 },
 "nbformat": 4,
 "nbformat_minor": 2
}
