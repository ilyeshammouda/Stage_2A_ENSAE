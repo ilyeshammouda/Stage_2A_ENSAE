{
 "cells": [
  {
   "cell_type": "code",
   "execution_count": null,
   "metadata": {},
   "outputs": [],
   "source": [
    "import os\n",
    "# Change the terminal placement to the folder where the py files  are located  \n",
    "os.chdir('/Users/ilyeshammouda/Desktop/Ilyes/2A ENSAE/stage/code_stage_2_A_ENSAE/Stage_2A_ENSAE/code') \n",
    "# We position ourselves in the directory where the main classes are located.\n",
    "print(f\" You are currently in the directory: {os.getcwd()}\")"
   ]
  },
  {
   "cell_type": "code",
   "execution_count": null,
   "metadata": {},
   "outputs": [],
   "source": [
    "from Zoro import *\n",
    "from functions import *\n",
    "from Zoro_MD import * \n",
    "from help_function import *\n",
    "from Zoro_new_Z import * \n",
    "\n",
    "import numpy as np\n",
    "import matplotlib.pyplot as plt\n",
    "import matplotlib as mpl\n",
    "import copy"
   ]
  },
  {
   "cell_type": "code",
   "execution_count": null,
   "metadata": {},
   "outputs": [],
   "source": [
    "# problem set up\n",
    "n = 2000\n",
    "s = int(0.1*n)\n",
    "# noise amplitude\n",
    "noiseamp = 0.001\n",
    "#noiseamp = 0 \n",
    "decay_factor=0.5\n",
    "x_star=100*(tools.sparse_vector(n=n,s=s))\n",
    "#x_star=100*(tools.vecteur_sparse_support_S(n=n,s=s))\n",
    "A=np.random.normal(size=(n,n)) # Simulate a Gaussian Matrix for the norm_with_a_Gaussian_matrix function\n",
    "#obj_func = SparseQuadric(n, s, noiseamp)\n",
    "#obj_func=CompressibleQuadric(n=n, decay_factor=decay_factor, noiseamp=noiseamp)\n",
    "#obj_func=SparseQuadric(n, s, noiseamp)\n",
    "#obj_func=square_of_the_difference_support_S(n,x_star,noiseamp)\n",
    "obj_func=norm_with_a_Gaussian_matrix(n,x_star,noiseamp,A)\n",
    "# Choose initialization\n",
    "x0    = np.random.randn(n)\n",
    "x0    =100*x0/np.linalg.norm(x0)\n",
    "sparsity = s\n",
    "#sparsity = int(0.1*len(x0)) # This is a decent default, if no better estimate is known. \n",
    "\n",
    "# Parameters for ZORO. Defaults are fine in most cases\n",
    "params = {\"step_size\":0.001, \"delta\": 0.0001, \"max_cosamp_iter\": 10, \n",
    "          \"cosamp_tol\": 0.5,\"sparsity\": sparsity,\n",
    "          'M':A,\n",
    "          \"num_samples\": int(np.ceil(np.log(len(x0))*sparsity))}\n"
   ]
  },
  {
   "cell_type": "code",
   "execution_count": null,
   "metadata": {},
   "outputs": [],
   "source": [
    "from help_function import True_grad_norm_with_a_Gaussian_matrix"
   ]
  },
  {
   "cell_type": "code",
   "execution_count": null,
   "metadata": {},
   "outputs": [],
   "source": [
    "#IHT set up \n",
    "lamda_IHT=10 # lambda initialisation \n",
    "threshold_IHT=1e-15 # lambda threshold\n",
    "C_IHT=0.9 # The update param for the lambda_k at each itteration.  \n",
    "step_IHT=1/(3*(n**2))# The step of the IHT algo \n",
    "itt_IHT=500  # The maximum number of itterations for the IHT algo"
   ]
  },
  {
   "cell_type": "code",
   "execution_count": null,
   "metadata": {},
   "outputs": [],
   "source": [
    "#ISTA set up \n",
    "lamda_ISTA=4 # lambda initialisation \n",
    "threshold_ISTA=0.01 # lambda threshold\n",
    "C_ISTA=0.9 # The update param for the lambda_k at each itteration.  \n",
    "step_ISTA=1/(3*n) # The step of the IHT algo \n",
    "itt_ISTA=40  # The maximum number of itterations for the IHT algo\n",
    "\n"
   ]
  },
  {
   "cell_type": "code",
   "execution_count": null,
   "metadata": {},
   "outputs": [],
   "source": [
    "# IHT classique set up\n",
    "itt_IHT_cla=500\n",
    "setp_IHT_cla=0.05\n",
    "s_IHT=sparsity"
   ]
  },
  {
   "cell_type": "code",
   "execution_count": null,
   "metadata": {},
   "outputs": [],
   "source": [
    "#Original Version of the Zoro Algo with different algos for estimating the gradient\n",
    "opt_Co  = ZORO(x0, obj_func, params,algo='CoSaMP', function_budget= int(1e5),x_star=x_star,s=s)\n",
    "opt_Lasso  = ZORO(x0, obj_func, params,algo='Lasso', function_budget= int(1e5),itt_Lasso=100,tol_Lasso=0.01,s=s)\n",
    "opt_DLasso  = ZORO(x0, obj_func, params,algo='DLasso', function_budget= int(1e5),itt_Lasso=100,tol_Lasso=0.01,s=s)\n",
    "opt_IHT  = ZORO(x0, obj_func, params,algo='IHT_Classique', function_budget= int(1e5),s=sparsity,itt_IHT=itt_IHT_cla,step_IHT=setp_IHT_cla)\n",
    "opt_IHT_ad  = ZORO(x0, obj_func, params,algo='IHT_ad', function_budget= int(1e5),threshold_IHT=threshold_IHT,C_IHT=C_IHT,lamda_IHT=lamda_IHT,itt_IHT=itt_IHT,step_IHT=step_IHT,s=s)\n",
    "opt_ista_ad  = ZORO(x0, obj_func, params,algo='ISTA_ad', function_budget= int(1e5),threshold_ista=threshold_ISTA,C_ista=C_ISTA,lamda_ista=lamda_ISTA,itt_ista=itt_ISTA,step_ista=step_ISTA,s=s)\n",
    "# the actual optimization routine\n",
    "termination=False"
   ]
  },
  {
   "cell_type": "code",
   "execution_count": null,
   "metadata": {},
   "outputs": [],
   "source": [
    "#opt_Co_New_Z  = ZORO_New_Z(x0, obj_func, params,algo='CoSaMP', function_budget= int(1e5),x_star=x_star,s=s)"
   ]
  },
  {
   "cell_type": "markdown",
   "metadata": {},
   "source": [
    "# Perform the original Zoro algorithm with different methods for estimating the gradient"
   ]
  },
  {
   "cell_type": "markdown",
   "metadata": {},
   "source": [
    "## Comparing the algorithm's performance by using a fixed Z versus updating Z at each step for gradient estimation."
   ]
  },
  {
   "cell_type": "code",
   "execution_count": null,
   "metadata": {},
   "outputs": [],
   "source": [
    "performance_log_ZORO_Co_Z,norm_Estimated_Grad_minus_true_list_CO,est_grad_norm_list_CO=opt_Co.Zoro()"
   ]
  },
  {
   "cell_type": "code",
   "execution_count": null,
   "metadata": {},
   "outputs": [],
   "source": [
    "#performance_log_ZORO_Co_Z_New_Z,norm_Estimated_Grad_minus_true_list_CO_New_Z,est_grad_norm_list_CO_New_Z=opt_Co_New_Z.Zoro_New_Z()"
   ]
  },
  {
   "cell_type": "code",
   "execution_count": null,
   "metadata": {},
   "outputs": [],
   "source": [
    "'''\n",
    "This peace of code is for comparing the performance of the algorithme using a newly generated Z at each step and a fixed Z\n",
    "\n",
    "mpl.style.use('seaborn')\n",
    "fig, ax = plt.subplots()\n",
    "ax.plot(np.array(performance_log_ZORO_Co_Z_New_Z)[:,0],\n",
    " ((np.array(performance_log_ZORO_Co_Z_New_Z)[:,1])), linewidth=1, label = \"Performance of the Zoro algorithm with a newly generated Z at each step.\")\n",
    "ax.plot(np.array(performance_log_ZORO_Co_Z)[:,0],\n",
    " ((np.array(performance_log_ZORO_Co_Z)[:,1])), linewidth=1, label = \"Performance of the Zoro algorithm with a fixed  Z\")\n",
    "plt.xlabel('number of queries')\n",
    "plt.ylabel('$(f(x_{k})-f^{*})$')\n",
    "leg = ax.legend()\n",
    "plt.suptitle(\"Comparative Analysis of ZORO Algorithm Performance with a newly generated Z at each step and a fixed Z where f(x)=$||x-x^{*}||_{[s]}^{2}$)\", fontsize=16)\n",
    "plt.tight_layout()\n",
    "plt.show()\n",
    "'''\n"
   ]
  },
  {
   "cell_type": "code",
   "execution_count": null,
   "metadata": {},
   "outputs": [],
   "source": [
    "'''\n",
    "This peace of code is for comparing the performance of the algorithme using a newly generated Z at each step and a fixed Z\n",
    "\n",
    "\n",
    "mpl.style.use('seaborn')\n",
    "fig, ax = plt.subplots()\n",
    "ax.plot(np.array(norm_Estimated_Grad_minus_true_list_CO_Z)[:,0],\n",
    " ((np.array(norm_Estimated_Grad_minus_true_list_CO_New_Z)[:,1])), linewidth=1, label = \"Zoro algorithm with a newly generated Z at each step.\")\n",
    "ax.plot(np.array(norm_Estimated_Grad_minus_true_list_CO)[:,0],\n",
    " ((np.array(norm_Estimated_Grad_minus_true_list_CO)[:,1])), linewidth=1, label = 'Zoro algorithm with a fixed  Z')\n",
    "plt.xlabel('number of queries')\n",
    "plt.ylabel('|Estimated_Grad(f(x))- True_Grad(f(x))||')\n",
    "leg = ax.legend()\n",
    "plt.suptitle(\"Comparative Analysis of ZORO Algorithm Performance  where f(x)=$||x-x^{*}||_{[s]}^{2}$)\", fontsize=16)\n",
    "plt.tight_layout()\n",
    "plt.show()\n",
    "'''"
   ]
  },
  {
   "cell_type": "code",
   "execution_count": null,
   "metadata": {},
   "outputs": [],
   "source": [
    "'''\n",
    "This peace of code is for comparing the performance of the algorithme using a newly generated Z at each step and a fixed Z\n",
    "\n",
    "\n",
    "mpl.style.use('seaborn')\n",
    "fig, ax = plt.subplots()\n",
    "ax.plot(np.array(est_grad_norm_list_CO_New_Z)[:,0],\n",
    " ((np.array(est_grad_norm_list_CO_New_Z)[:,1])), linewidth=1, label = \"Zoro algorithm with a newly generated Z at each step.\")\n",
    "ax.plot(np.array(est_grad_norm_list_CO)[:,0],\n",
    " ((np.array(est_grad_norm_list_CO)[:,1])), linewidth=1, label = 'Zoro algorithm with a fixed  Z')\n",
    "plt.xlabel('number of queries')\n",
    "plt.ylabel('||Estimated_Grad(f(x))||')\n",
    "leg = ax.legend()\n",
    "plt.suptitle(\"Comparative Analysis of ZORO Algorithm Performance with a newly generated Z at each step and a fixed Z where f(x)=$||x-x^{*}||_{[s]}^{2}$)\", fontsize=16)\n",
    "plt.tight_layout()\n",
    "plt.show()\n",
    "'''\n"
   ]
  },
  {
   "cell_type": "code",
   "execution_count": null,
   "metadata": {},
   "outputs": [],
   "source": [
    "performance_log_ZORO_IHT_ad,norm_Estimated_Grad_minus_true_list_IHT_ad,est_grad_norm_list_IHT_ad=opt_IHT_ad.Zoro()"
   ]
  },
  {
   "cell_type": "code",
   "execution_count": null,
   "metadata": {},
   "outputs": [],
   "source": [
    "performance_log_ZORO_IHT,norm_Estimated_Grad_minus_true_list_IHT,est_grad_norm_list_IHT=opt_IHT.Zoro()"
   ]
  },
  {
   "cell_type": "code",
   "execution_count": null,
   "metadata": {},
   "outputs": [],
   "source": [
    "performance_log_ZORO_Lasso,norm_Estimated_Grad_minus_true_list_Lasso,est_grad_norm_list_Lasso=opt_Lasso.Zoro()"
   ]
  },
  {
   "cell_type": "code",
   "execution_count": null,
   "metadata": {},
   "outputs": [],
   "source": [
    "performance_log_ZORO_DLasso,norm_Estimated_Grad_minus_true_list_DLasso,est_grad_norm_list_DLasso=opt_DLasso.Zoro()"
   ]
  },
  {
   "cell_type": "code",
   "execution_count": null,
   "metadata": {},
   "outputs": [],
   "source": [
    "mpl.style.use('seaborn')\n",
    "\n",
    "fig, axs = plt.subplots(1, 3, figsize=(18, 8))\n",
    "\n",
    "ax1 = axs[0]\n",
    "ax1.plot(np.array(performance_log_ZORO_Lasso)[:,0],\n",
    " ((np.array(performance_log_ZORO_Lasso)[:,1])), linewidth=1, label = \"ZORO WITH Lasso.\")\n",
    "\n",
    "ax1.plot(np.array(performance_log_ZORO_IHT)[:,0],\n",
    " ((np.array(performance_log_ZORO_IHT)[:,1])), linewidth=1, label = \"ZORO WITH IHT.\")\n",
    "\n",
    "ax1.set_xlabel('number of queries')\n",
    "ax1.set_ylabel('$(f(x_{k})-f^{*})$')\n",
    "ax1.set_title('COSAMP VS DLasso')\n",
    "ax1.legend()\n",
    "\n",
    "\n",
    "\n",
    "ax2 = axs[1]\n",
    "ax2.plot(np.array(norm_Estimated_Grad_minus_true_list_Lasso)[:,0],\n",
    " ((np.array(norm_Estimated_Grad_minus_true_list_Lasso)[:,1])), linewidth=1, label = \"ZORO WITH Lasso.\")\n",
    "\n",
    "ax2.plot(np.array(norm_Estimated_Grad_minus_true_list_IHT)[:,0],\n",
    " ((np.array(norm_Estimated_Grad_minus_true_list_IHT)[:,1])), linewidth=1, label = \"ZORO WITH IHT.\")\n",
    "ax2.set_xlabel('number of queries')\n",
    "ax2.set_ylabel('||Estimated_Grad(f(x))- True_Grad(f(x))||')\n",
    "ax2.set_title('COSAMP VS DLasso')\n",
    "ax2.legend()\n",
    "\n",
    "\n",
    "\n",
    "\n",
    "ax3 = axs[2]\n",
    "ax3.plot(np.array(est_grad_norm_list_Lasso)[:,0],\n",
    " ((np.array(est_grad_norm_list_Lasso)[:,1])), linewidth=1, label = \"ZORO WITH Lasso.\")\n",
    "\n",
    "ax3.plot(np.array(est_grad_norm_list_IHT)[:,0],\n",
    " ((np.array(est_grad_norm_list_IHT)[:,1])), linewidth=1, label = \"ZORO WITH DLasso.\")\n",
    "ax3.set_xlabel('number of queries')\n",
    "ax3.set_ylabel('||Estimated_Grad(f(x))||')\n",
    "ax3.set_title('COSAMP VS DLasso')\n",
    "ax3.legend()\n",
    "\n",
    "\n",
    "\n",
    "plt.suptitle(\"Comparative Analysis of ZORO Algorithm Performance with Various Gradient Estimation and Descent Methods where f(x)=$||x-x^{*}||_{[s]}^{2}$)\", fontsize=16)\n",
    "plt.tight_layout()\n",
    "plt.show()"
   ]
  },
  {
   "cell_type": "markdown",
   "metadata": {},
   "source": [
    "# Perform the Zoro algorithm with MD and different methods for estimating the gradient"
   ]
  },
  {
   "cell_type": "code",
   "execution_count": null,
   "metadata": {},
   "outputs": [],
   "source": [
    "#Original the Zoro Algo using MD and  with different algos for estimating the gradient\n",
    "opt_IHT_MD  = ZORO_MD(x0, obj_func, params,algo='IHT_Classique', function_budget= int(1e5),s=sparsity,itt_IHT=itt_IHT,x_star=x_star)\n",
    "opt_Co_MD  = ZORO_MD(x0, obj_func, params,algo='CoSaMP', function_budget= int(1e5),s=sparsity,itt_IHT=itt_IHT,x_star=x_star)\n",
    "opt_IHT_ad_MD  = ZORO_MD(x0, obj_func, params,algo='IHT_ad', function_budget= int(1e5),s=sparsity,itt_IHT=itt_IHT,x_star=x_star)\n",
    "opt_Lass_MD  = ZORO_MD(x0, obj_func, params,algo='Lasso', function_budget= int(1e5),itt_Lasso=100,tol_Lasso=0.01)\n",
    "opt_DLasso_MD  = ZORO_MD(x0, obj_func, params,algo='DLasso', function_budget= int(1e5),itt_Lasso=100,tol_Lasso=0.01)"
   ]
  },
  {
   "cell_type": "code",
   "execution_count": null,
   "metadata": {},
   "outputs": [],
   "source": [
    "performance_log_ZORO_Co_MD,norm_Estimated_Grad_minus_true_list_CO_MD,est_grad_norm_list_CO_MD=opt_Co_MD.Zoro_MD()"
   ]
  },
  {
   "cell_type": "code",
   "execution_count": null,
   "metadata": {},
   "outputs": [],
   "source": [
    "performance_log_ZORO_IHT_MD,norm_Estimated_Grad_minus_true_list_IHT_MD,est_grad_norm_list_IHT_MD=opt_IHT_MD.Zoro_MD()"
   ]
  },
  {
   "cell_type": "code",
   "execution_count": null,
   "metadata": {},
   "outputs": [],
   "source": [
    "performance_log_ZORO_Lasso_MD,norm_Estimated_Grad_minus_true_list_Lasso_MD,est_grad_norm_list_Lasso_MD=opt_Lass_MD.Zoro_MD()"
   ]
  },
  {
   "cell_type": "code",
   "execution_count": null,
   "metadata": {},
   "outputs": [],
   "source": [
    "performance_log_ZORO_IHT_ad_MD,norm_Estimated_Grad_minus_true_list_IHT_ad_MD,est_grad_norm_list_IHT_ad_MD=opt_IHT_ad_MD.Zoro_MD()"
   ]
  },
  {
   "cell_type": "code",
   "execution_count": null,
   "metadata": {},
   "outputs": [],
   "source": [
    "performance_log_ZORO_DLasso_MD,norm_Estimated_Grad_minus_true_list_DLasso_MD,est_grad_norm_list_DLasso_MD=opt_DLasso_MD.Zoro_MD()"
   ]
  },
  {
   "cell_type": "code",
   "execution_count": null,
   "metadata": {},
   "outputs": [],
   "source": [
    "# Transforming the lists to arrays \n",
    "performance_log_ZORO_Co_MD = np.array(performance_log_ZORO_Co_MD)\n",
    "performance_log_ZORO_Co=np.array(performance_log_ZORO_Co)\n",
    "performance_log_ZORO_IHT = np.array(performance_log_ZORO_IHT)\n",
    "performance_log_ZORO_IHT_MD = np.array(performance_log_ZORO_IHT_MD)\n",
    "performance_log_ZORO_Lasso=np.array(performance_log_ZORO_Lasso)\n",
    "performance_log_ZORO_Lasso_MD=np.array(performance_log_ZORO_Lasso_MD)\n",
    "performance_log_ZORO_DLasso=np.array(performance_log_ZORO_DLasso)\n",
    "performance_log_ZORO_DLasso_MD=np.array(performance_log_ZORO_DLasso_MD)\n",
    "performance_log_ZORO_IHT_ad=np.array(performance_log_ZORO_IHT_ad)\n",
    "performance_log_ZORO_IHT_ad_MD=np.array(performance_log_ZORO_IHT_ad_MD)"
   ]
  },
  {
   "cell_type": "code",
   "execution_count": null,
   "metadata": {},
   "outputs": [],
   "source": [
    "mpl.style.use('seaborn')\n",
    "\n",
    "fig, axs = plt.subplots(2, 3, figsize=(20, 20))\n",
    "\n",
    "ax1 = axs[0, 0]\n",
    "ax1.plot(np.array(performance_log_ZORO_Co[:,0]), np.array((performance_log_ZORO_Co[:,1])), linewidth=1, label='ZORO WITH COSAMP')\n",
    "ax1.plot(performance_log_ZORO_Co_MD[:, 0], (performance_log_ZORO_Co_MD[:, 1]), linewidth=1, label='ZORO USING MD WITH COSAMP')\n",
    "ax1.set_xlabel('number of queries')\n",
    "ax1.set_ylabel('$(f(x_{k})-f^{*})$')\n",
    "ax1.set_title('COSAMP')\n",
    "ax1.legend()\n",
    "\n",
    "ax2 = axs[0, 1]\n",
    "ax2.plot(performance_log_ZORO_IHT[:, 0], (performance_log_ZORO_IHT[:, 1]), linewidth=1, label='ZORO WITH IHT')\n",
    "ax2.plot(performance_log_ZORO_IHT_MD[:, 0], (performance_log_ZORO_IHT_MD[:, 1]), linewidth=1, label='ZORO USING MD WITH IHT')\n",
    "ax2.set_xlabel('number of queries')\n",
    "ax2.set_ylabel('$(f(x_{k})-f^{*})$')\n",
    "ax2.set_title('IHT')\n",
    "ax2.legend()\n",
    "\n",
    "ax3 = axs[1, 0]\n",
    "ax3.plot(performance_log_ZORO_Lasso[:, 0], (performance_log_ZORO_Lasso[:, 1]), linewidth=1, label='ZORO WITH LASSO')\n",
    "ax3.plot(performance_log_ZORO_Lasso_MD[:, 0], (performance_log_ZORO_Lasso_MD[:, 1]), linewidth=1, label='ZORO USING MD WITH LASSO')\n",
    "ax3.set_xlabel('number of queries')\n",
    "ax3.set_ylabel('$(f(x_{k})-f^{*})$')\n",
    "ax3.set_title('LASSO')\n",
    "ax3.legend()\n",
    "\n",
    "ax4 = axs[1, 1]\n",
    "ax4.plot(performance_log_ZORO_DLasso[:, 0], (performance_log_ZORO_DLasso[:, 1]), linewidth=1, label='ZORO WITH DE-BIASED LASSO')\n",
    "ax4.plot(performance_log_ZORO_DLasso_MD[:, 0], (performance_log_ZORO_DLasso_MD[:, 1]), linewidth=1, label='ZORO USING MD WITH DE-BIASED LASSO')\n",
    "ax4.set_xlabel('number of queries')\n",
    "ax4.set_ylabel('$(f(x_{k})-f^{*})$')\n",
    "ax4.set_title('DE-BIASED LASSO')\n",
    "ax4.legend()\n",
    "\n",
    "ax5 = axs[1, 2]\n",
    "ax5.plot(performance_log_ZORO_IHT_ad[:, 0], (performance_log_ZORO_IHT_ad[:, 1]), linewidth=1, label='ZORO WITH IHT AD LASSO')\n",
    "ax5.plot(performance_log_ZORO_IHT_ad_MD[:, 0], (performance_log_ZORO_IHT_ad_MD[:, 1]), linewidth=1, label='ZORO USING MD WITH IHT AD')\n",
    "ax5.set_xlabel('number of queries')\n",
    "ax5.set_ylabel('$(f(x_{k})-f^{*})$')\n",
    "ax5.set_title('IHT AD LASSO')\n",
    "ax5.legend()\n",
    "\n",
    "ax6 = axs[0, 2]\n",
    "ax6.plot(performance_log_ZORO_IHT_ad[:, 0], (performance_log_ZORO_IHT_ad[:, 1]), linewidth=1, label='ZORO WITH IHT AD LASSO')\n",
    "ax6.plot(np.array(performance_log_ZORO_Co[:,0]), np.array((performance_log_ZORO_Co[:,1])), linewidth=1, label='ZORO WITH COSAMP')\n",
    "ax6.set_xlabel('number of queries')\n",
    "ax6.set_ylabel('$(f(x_{k})-f^{*})$')\n",
    "ax6.set_title('IHT AD LASSO')\n",
    "ax6.legend()\n",
    "\n",
    "plt.suptitle(\"Comparative Analysis of ZORO Algorithm Performance with Various Gradient Estimation and Descent Methods f(x)=$(||M(x-x^{*}||/n)^{2}$)\", fontsize=16)\n",
    "plt.tight_layout()\n",
    "plt.show()\n"
   ]
  }
 ],
 "metadata": {
  "kernelspec": {
   "display_name": "base",
   "language": "python",
   "name": "python3"
  },
  "language_info": {
   "codemirror_mode": {
    "name": "ipython",
    "version": 3
   },
   "file_extension": ".py",
   "mimetype": "text/x-python",
   "name": "python",
   "nbconvert_exporter": "python",
   "pygments_lexer": "ipython3",
   "version": "3.9.12"
  },
  "orig_nbformat": 4
 },
 "nbformat": 4,
 "nbformat_minor": 2
}
