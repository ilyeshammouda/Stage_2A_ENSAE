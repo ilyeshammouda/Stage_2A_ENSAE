{
 "cells": [
  {
   "cell_type": "code",
   "execution_count": 18,
   "metadata": {},
   "outputs": [],
   "source": [
    "#import packages\n",
    "import numpy as np\n",
    "from sklearn import linear_model"
   ]
  },
  {
   "cell_type": "code",
   "execution_count": 48,
   "metadata": {},
   "outputs": [],
   "source": [
    "#Defining some useful functions\n",
    "\n",
    "def Rademacher_matrix(d,n):\n",
    "    \"\"\"\n",
    "    This fucntion generates a Rademacher matrix\n",
    "    \"\"\"\n",
    "    return np.random.choice([-1, 1], size=(d,n))\n",
    "\n",
    "\n",
    "\n",
    "def Rademacher_matrix_concatenated(d,n):\n",
    "    \"\"\"\n",
    "    This function generates a Rademacher matrix and add a line of ones \n",
    "    \"\"\"\n",
    "    Z=Rademacher_matrix(d,n)\n",
    "    Last_line_of_ones = np.ones((1, Z.shape[1]))\n",
    "    return (Z,np.concatenate((Z, Last_line_of_ones), axis=0))\n",
    "\n",
    "\n",
    "\n",
    "def Lasso_reg(Y_tilde:np.ndarra,Z:np.ndarra,lamda=0.1):\n",
    "    \"\"\"\n",
    "    This function gives the solution to the Lasso regression in a multivariate model\n",
    "    \"\"\"\n",
    "    lasso = linear_model.Lasso(lamda)\n",
    "    lasso.fit(Z,Y_tilde )\n",
    "    g = lasso.coef_\n",
    "    u=lasso.intercept_\n",
    "    return(g,u)\n",
    "\n",
    "\n",
    "def GradiantEstimate(y_t_vect:np.ndarray,d,n,delta,lamda=0.1):\n",
    "    \"\"\" \n",
    "    This function corresponds to the pseudo algorithme 1 defined in the paper\n",
    "    \"\"\"\n",
    "    Z=Rademacher_matrix(n,d)\n",
    "\n",
    "    y_tilde=y_t_vect/delta\n",
    "    (g,u)=Lasso_reg(Y_tilde=y_tilde,Z=Z,lamda=lamda)\n",
    "    return(g,u)\n",
    "\n",
    "\n",
    "def random_vector_unit_spehre(d):\n",
    "    random_vector = np.random.normal(size=d)\n",
    "    return(random_vector/np.linalg.norm(random_vector))\n",
    "\n",
    "\n",
    "\n",
    "def BGD(alpha,delta,nu,set,T,):\n",
    "    y_t=0\n",
    "    for t in len(T):\n",
    "\n",
    "    return()\n",
    "\n",
    "\n",
    "\n",
    "def Successive_selection_algo(T,eta,delta,lamda,s,B,d,n,chi:set,y_t_vect:np.ndarray):\n",
    "    x_t=0\n",
    "    S_hat_t=set() \n",
    "    S_hat_t_minus_1={1}\n",
    "    chi_tilde={x for x in chi if np.linalg.norm(x,ord=1)<=B}\n",
    "    T_prime=int(T/2)\n",
    "    t=0\n",
    "    while len(S_hat_t)<s and t<s and S_hat_t.intersection(S_hat_t_minus_1)==set():\n",
    "        S_hat_t_copy=S_hat_t.copy()\n",
    "        t=t+1\n",
    "        g_hat_t,u_t=GradiantEstimate(y_t_vect,d,n,delta,lamda)\n",
    "        right_set={i for i in range(d) if abs(g_hat_t[i])>= eta}\n",
    "        S_hat_t=S_hat_t_minus_1.union(right_set)\n",
    "\n",
    "    \n",
    "\n"
   ]
  },
  {
   "cell_type": "code",
   "execution_count": 45,
   "metadata": {},
   "outputs": [],
   "source": [
    "# Functions that will be used for testing \n",
    "def f_test(x_t,delta,d,noise=1,S):#S le support \n",
    "    Z=Rademacher_matrix(d,1)\n",
    "    return(np.linalg.norm(x_t)+noise*np.random.normal(0,1,1))\n",
    "def vect_f_test(x_t, delta, d, n):\n",
    "    y_t_vecteur = np.zeros(n)\n",
    "    for i in range(n):\n",
    "        y_t_vecteur[i] = f_test(x_t, delta, d)\n",
    "    y_t = f_test(x_t=x_t, delta=0, d=d, noise=0)\n",
    "    return y_t_vecteur, y_t\n",
    "\n"
   ]
  },
  {
   "cell_type": "code",
   "execution_count": 25,
   "metadata": {},
   "outputs": [],
   "source": [
    "#precising the parameters \n",
    "d=100\n",
    "n=50\n",
    "delta=0.5\n",
    "lamda=0.1\n",
    "x_t=np.random.binomial(1, 1/2,size=(d,))"
   ]
  },
  {
   "cell_type": "code",
   "execution_count": 14,
   "metadata": {},
   "outputs": [],
   "source": [
    "Z,Z_conctanated=Rademacher_matrix_concatenated(d,n)"
   ]
  },
  {
   "cell_type": "code",
   "execution_count": 46,
   "metadata": {},
   "outputs": [],
   "source": [
    "y_t_vecteur,y_t=vect_f_test(x_t,delta,d,n)"
   ]
  },
  {
   "cell_type": "code",
   "execution_count": 37,
   "metadata": {},
   "outputs": [
    {
     "name": "stdout",
     "output_type": "stream",
     "text": [
      "The true value of y_t: [70.71067812]\n",
      "The neighbourhood around x_t \n",
      " [84.44350793 87.5544709  88.00675438 87.59041503 84.12875162 89.93902429\n",
      " 81.36389886 86.880444   82.2878444  89.22035657 80.86809302 85.68150784\n",
      " 82.75507423 86.05794164 84.92790321 87.15425912 85.31005958 83.46363578\n",
      " 86.47940043 80.08614194 88.04868994 91.41400272 82.5905838  88.17240772\n",
      " 86.96476611 88.0262785  82.74999969 85.98731308 85.91404021 86.39783318\n",
      " 92.61085735 90.65629981 87.86705267 81.61849855 85.99212113 93.83975392\n",
      " 81.96194848 88.42617375 84.63408098 82.0642591  88.74534266 88.85123631\n",
      " 87.02362122 85.3704379  91.13424452 88.88863936 87.57745488 89.52660127\n",
      " 89.41040795 88.7675172 ]: \n"
     ]
    }
   ],
   "source": [
    "print(f\"The true value of y_t: {y_t}\")\n",
    "print(f\"The neighbourhood around x_t \\n {y_t_vecteur}: \")\n"
   ]
  },
  {
   "cell_type": "code",
   "execution_count": 51,
   "metadata": {},
   "outputs": [],
   "source": [
    "g_t,u_t=GradiantEstimate(y_t_vecteur,d,n,delta)"
   ]
  },
  {
   "cell_type": "code",
   "execution_count": 52,
   "metadata": {},
   "outputs": [
    {
     "name": "stdout",
     "output_type": "stream",
     "text": [
      " The lasso estimator of g_t and u_t are:\n",
      "  g_t=[ 0.85584678 -0.         -0.27518014  0.         -0.92315559  0.\n",
      " -0.13270757 -0.49917827 -0.         -0.          1.27936878 -0.\n",
      "  0.          0.          0.         -0.          0.          0.04199\n",
      " -0.49251199 -0.          0.1991393  -0.42375978  0.         -0.\n",
      " -0.         -0.          0.          1.14341817  0.         -1.11363068\n",
      "  0.         -0.48977127 -0.         -0.46033951 -0.          0.\n",
      " -0.23029969  0.60316216  0.34387393  0.30580728 -0.20423971  0.\n",
      "  0.          0.14773199 -0.         -0.         -0.          0.\n",
      " -0.07978006 -0.30870114  0.         -0.09659295 -2.60461444  0.32942071\n",
      "  0.          0.          0.         -0.          1.25801597 -0.\n",
      " -0.         -0.97083662  1.30076493 -0.64672034  0.         -0.\n",
      " -0.43377556 -0.          0.         -0.          0.         -0.57633336\n",
      " -0.3184277  -0.04609787 -0.88207381  0.         -0.          0.\n",
      "  0.          0.          0.09776046  0.          0.         -1.0050212\n",
      "  0.06832417 -0.         -0.          0.76438894  1.42466696 -0.15302242\n",
      "  0.         -0.96858441  0.51035208  0.97861854  1.76187118  0.\n",
      " -0.          0.          0.         -0.        ] \n",
      " u_t=171.67928172986305 \n"
     ]
    }
   ],
   "source": [
    "print(f\" The lasso estimator of g_t and u_t are:\\n  g_t= {g_t} \\n u_t= {u_t} \")"
   ]
  }
 ],
 "metadata": {
  "kernelspec": {
   "display_name": "Python 3",
   "language": "python",
   "name": "python3"
  },
  "language_info": {
   "codemirror_mode": {
    "name": "ipython",
    "version": 3
   },
   "file_extension": ".py",
   "mimetype": "text/x-python",
   "name": "python",
   "nbconvert_exporter": "python",
   "pygments_lexer": "ipython3",
   "version": "3.9.12"
  },
  "orig_nbformat": 4
 },
 "nbformat": 4,
 "nbformat_minor": 2
}
